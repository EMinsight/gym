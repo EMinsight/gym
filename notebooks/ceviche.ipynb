{
 "cells": [
  {
   "cell_type": "code",
   "execution_count": null,
   "id": "b4b78fc5-34c7-4e23-b77f-9e34a8718cd3",
   "metadata": {},
   "outputs": [],
   "source": [
    "from importlib import reload\n",
    "\n",
    "import time\n",
    "import jax\n",
    "import jax.numpy as jnp\n",
    "import matplotlib.pyplot as plt\n",
    "import numpy as onp\n",
    "\n",
    "from ceviche_challenges import units as u\n",
    "from ceviche_challenges import beam_splitter, mode_converter, params, waveguide_bend, wdm\n",
    "\n",
    "from invrs_gym.challenge.ceviche import defaults"
   ]
  },
  {
   "cell_type": "code",
   "execution_count": null,
   "id": "95f003fc-c137-4099-81ad-1e6cfae0f41b",
   "metadata": {},
   "outputs": [],
   "source": [
    "model = wdm.model.WdmModel(defaults.LIGHTWEIGHT_SIM_PARAMS, defaults.LIGHTWEIGHT_WDM_SPEC)\n",
    "density = jnp.full(model.design_variable_shape, 1.0)\n",
    "plt.imshow(model.density(density)[20:-20, 20:-20])"
   ]
  },
  {
   "cell_type": "code",
   "execution_count": null,
   "id": "33898107-7832-4ad1-a980-2873fb993dfb",
   "metadata": {},
   "outputs": [],
   "source": [
    "model = waveguide_bend.model.WaveguideBendModel(defaults.LIGHTWEIGHT_SIM_PARAMS, defaults.WAVEGUIDE_BEND_SPEC)\n",
    "density = jnp.full(model.design_variable_shape, 1.0)\n",
    "plt.imshow(model.density(density)[20:-20, 20:-20])"
   ]
  },
  {
   "cell_type": "code",
   "execution_count": null,
   "id": "23bf803f-5359-48de-a497-064fe6ef688a",
   "metadata": {},
   "outputs": [],
   "source": [
    "model = beam_splitter.model.BeamSplitterModel(defaults.LIGHTWEIGHT_SIM_PARAMS, defaults.BEAM_SPLITTER_SPEC)\n",
    "density = jnp.full(model.design_variable_shape, 1.0)\n",
    "plt.imshow(model.density(density)[20:-20, 20:-20])"
   ]
  },
  {
   "cell_type": "code",
   "execution_count": null,
   "id": "b553c6fc-0c0f-4450-b492-fb27ba84644d",
   "metadata": {},
   "outputs": [],
   "source": [
    "model = mode_converter.model.ModeConverterModel(defaults.LIGHTWEIGHT_SIM_PARAMS, defaults.MODE_CONVERTER_SPEC)\n",
    "density = jnp.full(model.design_variable_shape, 1.0)\n",
    "plt.imshow(model.density(density)[20:-20, 20:-20])"
   ]
  },
  {
   "cell_type": "code",
   "execution_count": null,
   "id": "474e7001-99c1-4a7a-94bc-e1191628d313",
   "metadata": {},
   "outputs": [],
   "source": []
  }
 ],
 "metadata": {
  "kernelspec": {
   "display_name": "Python 3 (ipykernel)",
   "language": "python",
   "name": "python3"
  },
  "language_info": {
   "codemirror_mode": {
    "name": "ipython",
    "version": 3
   },
   "file_extension": ".py",
   "mimetype": "text/x-python",
   "name": "python",
   "nbconvert_exporter": "python",
   "pygments_lexer": "ipython3",
   "version": "3.10.12"
  }
 },
 "nbformat": 4,
 "nbformat_minor": 5
}
