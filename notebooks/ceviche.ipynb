{
 "cells": [
  {
   "cell_type": "code",
   "execution_count": null,
   "id": "b4b78fc5-34c7-4e23-b77f-9e34a8718cd3",
   "metadata": {},
   "outputs": [],
   "source": [
    "from importlib import reload\n",
    "\n",
    "import time\n",
    "import jax\n",
    "import jax.numpy as jnp\n",
    "import matplotlib.pyplot as plt\n",
    "import numpy as onp\n",
    "\n",
    "from ceviche_challenges import units as u\n",
    "from ceviche_challenges import beam_splitter, mode_converter, params, waveguide_bend, wdm\n",
    "\n",
    "from invrs_gym.challenge.ceviche import challenge, defaults"
   ]
  },
  {
   "cell_type": "code",
   "execution_count": null,
   "id": "95f003fc-c137-4099-81ad-1e6cfae0f41b",
   "metadata": {},
   "outputs": [],
   "source": [
    "for ceviche_model in (\n",
    "    defaults.BEAM_SPLITTER_MODEL,\n",
    "    defaults.LIGHTWEIGHT_BEAM_SPLITTER_MODEL,\n",
    "    defaults.MODE_CONVERTER_MODEL,\n",
    "    defaults.LIGHTWEIGHT_MODE_CONVERTER_MODEL,\n",
    "    defaults.WAVEGUIDE_BEND_MODEL,\n",
    "    defaults.LIGHTWEIGHT_WAVEGUIDE_BEND_MODEL,\n",
    "    defaults.WDM_MODEL,\n",
    "    defaults.LIGHTWEIGHT_WDM_MODEL,\n",
    "):\n",
    "    plt.figure()\n",
    "    ax = plt.subplot(111)\n",
    "    density = jnp.full(ceviche_model.design_variable_shape, 1.0)\n",
    "    ax.imshow(ceviche_model.density(density)[20:-20, 20:-20])\n",
    "    ax.axis(\"off\")"
   ]
  },
  {
   "cell_type": "code",
   "execution_count": null,
   "id": "474e7001-99c1-4a7a-94bc-e1191628d313",
   "metadata": {},
   "outputs": [],
   "source": [
    "reload(defaults)\n",
    "reload(challenge)\n",
    "\n",
    "bsc = challenge.lightweight_beam_splitter_challenge()"
   ]
  },
  {
   "cell_type": "code",
   "execution_count": null,
   "id": "d37779df-9cc3-43ac-bd76-9cb82e22ab17",
   "metadata": {},
   "outputs": [],
   "source": [
    "bsc.component"
   ]
  },
  {
   "cell_type": "code",
   "execution_count": null,
   "id": "5392e86a-e897-4dee-89a7-ddac70794048",
   "metadata": {},
   "outputs": [],
   "source": [
    "params = bsc.component.init(jax.random.PRNGKey(0))"
   ]
  },
  {
   "cell_type": "code",
   "execution_count": null,
   "id": "c686d9db-0353-4c2c-b949-adccb8e3aff6",
   "metadata": {},
   "outputs": [],
   "source": [
    "import time\n",
    "t0 = time.time()\n",
    "s_params, fields = bsc.component.response(params)\n",
    "print(time.time() - t0)\n",
    "\n",
    "\n",
    "def loss_fn(params):\n",
    "    s_params, fields = bsc.component.response(params)\n",
    "    return jnp.sum(jnp.abs(s_params)**2)\n",
    "\n",
    "value, grad = jax.value_and_grad(loss_fn)(params)\n",
    "\n",
    "print(s_params.shape)"
   ]
  },
  {
   "cell_type": "code",
   "execution_count": null,
   "id": "971eb2a6-7339-4b45-9b29-f468e25ee237",
   "metadata": {},
   "outputs": [],
   "source": [
    "print(value)\n",
    "               "
   ]
  },
  {
   "cell_type": "code",
   "execution_count": null,
   "id": "6a01ab00-8edd-4aca-adff-892925829df3",
   "metadata": {},
   "outputs": [],
   "source": []
  }
 ],
 "metadata": {
  "kernelspec": {
   "display_name": "Python 3 (ipykernel)",
   "language": "python",
   "name": "python3"
  },
  "language_info": {
   "codemirror_mode": {
    "name": "ipython",
    "version": 3
   },
   "file_extension": ".py",
   "mimetype": "text/x-python",
   "name": "python",
   "nbconvert_exporter": "python",
   "pygments_lexer": "ipython3",
   "version": "3.10.12"
  }
 },
 "nbformat": 4,
 "nbformat_minor": 5
}
