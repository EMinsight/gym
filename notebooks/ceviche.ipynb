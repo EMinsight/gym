{
 "cells": [
  {
   "cell_type": "code",
   "execution_count": null,
   "id": "b4b78fc5-34c7-4e23-b77f-9e34a8718cd3",
   "metadata": {},
   "outputs": [],
   "source": [
    "from importlib import reload\n",
    "\n",
    "import time\n",
    "import jax\n",
    "import jax.numpy as jnp\n",
    "import matplotlib.pyplot as plt\n",
    "import numpy as onp\n",
    "import optax\n",
    "\n",
    "from invrs_gym.loss import transmission_loss\n",
    "from invrs_gym.challenge.ceviche import challenge, defaults"
   ]
  },
  {
   "cell_type": "code",
   "execution_count": null,
   "id": "c686d9db-0353-4c2c-b949-adccb8e3aff6",
   "metadata": {},
   "outputs": [],
   "source": [
    "reload(transmission_loss)\n",
    "\n",
    "bsc = challenge.lightweight_beam_splitter_challenge()\n",
    "params = bsc.component.init(jax.random.PRNGKey(0))\n",
    "\n",
    "def loss_fn(params):\n",
    "    response, aux = bsc.component.response(params)\n",
    "    loss = bsc.loss(response)\n",
    "    return loss, (response, aux)\n",
    "\n",
    "opt = optax.adam(0.01)\n",
    "state = opt.init(params)\n",
    "\n",
    "loss_values = []\n",
    "for _ in range(20):\n",
    "    (value, (response, aux)), grad = jax.value_and_grad(loss_fn, has_aux=True)(params)\n",
    "    loss_values.append(value)\n",
    "    updates, state = opt.update(grad, state)\n",
    "    params = optax.apply_updates(params, updates)\n",
    "\n",
    "plt.plot(loss_values)"
   ]
  },
  {
   "cell_type": "code",
   "execution_count": null,
   "id": "6a01ab00-8edd-4aca-adff-892925829df3",
   "metadata": {},
   "outputs": [],
   "source": [
    "reload(transmission_loss)\n",
    "\n",
    "t1, t2 = jnp.meshgrid(\n",
    "    jnp.linspace(0, 1),\n",
    "    jnp.linspace(0, 1),\n",
    "    indexing=\"ij\",\n",
    ")\n",
    "transmission = jnp.stack([t1, t2], axis=-1)\n",
    "\n",
    "lower_bound = defaults.WAVEGUIDE_BEND_TRANSMISSION_LOWER_BOUND\n",
    "upper_bound = defaults.WAVEGUIDE_BEND_TRANSMISSION_UPPER_BOUND\n",
    "\n",
    "def loss_fn(transmission):\n",
    "    return transmission_loss.orthotope_smooth_transmission_loss(\n",
    "        transmission,\n",
    "        lower_bound,\n",
    "        upper_bound,\n",
    "        transmission_exponent=0.5,\n",
    "        scalar_exponent=2.0,\n",
    "    )\n",
    "\n",
    "loss = jax.vmap(jax.vmap(loss_fn))(transmission)\n",
    "\n",
    "plt.pcolor(t1, t2, jnp.log10(loss))\n",
    "plt.colorbar()\n",
    "plt.plot(\n",
    "    [lower_bound[0], upper_bound[0], upper_bound[0], lower_bound[0], lower_bound[0]],\n",
    "    [lower_bound[1], lower_bound[1], upper_bound[1], upper_bound[1], lower_bound[1]],\n",
    "    \"r\",\n",
    ")"
   ]
  },
  {
   "cell_type": "code",
   "execution_count": null,
   "id": "5423b32a-44cd-4bb5-97e8-a0c36813b2c5",
   "metadata": {},
   "outputs": [],
   "source": []
  }
 ],
 "metadata": {
  "kernelspec": {
   "display_name": "Python 3 (ipykernel)",
   "language": "python",
   "name": "python3"
  },
  "language_info": {
   "codemirror_mode": {
    "name": "ipython",
    "version": 3
   },
   "file_extension": ".py",
   "mimetype": "text/x-python",
   "name": "python",
   "nbconvert_exporter": "python",
   "pygments_lexer": "ipython3",
   "version": "3.10.12"
  }
 },
 "nbformat": 4,
 "nbformat_minor": 5
}
