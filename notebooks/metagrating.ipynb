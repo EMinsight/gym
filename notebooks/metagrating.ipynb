{
 "cells": [
  {
   "cell_type": "code",
   "execution_count": null,
   "id": "b4b78fc5-34c7-4e23-b77f-9e34a8718cd3",
   "metadata": {},
   "outputs": [],
   "source": [
    "from importlib import reload\n",
    "\n",
    "from jax import tree_util\n",
    "import jax.numpy as jnp\n",
    "import matplotlib.pyplot as plt\n",
    "import numpy as onp\n",
    "\n",
    "from totypes import types\n",
    "from invrs_gym.loss import transmission_loss\n",
    "from invrs_gym.challenge.metagrating import challenge"
   ]
  },
  {
   "cell_type": "code",
   "execution_count": null,
   "id": "c686d9db-0353-4c2c-b949-adccb8e3aff6",
   "metadata": {},
   "outputs": [],
   "source": [
    "metagrating = challenge.metagrating()\n",
    "\n",
    "def loss_fn(params):\n",
    "    response, aux = metagrating.component.response(params)\n",
    "    loss = metagrating.loss(response)\n",
    "    return loss, (response, aux)\n",
    "\n",
    "params = metagrating.component.init(jax.random.PRNGKey(0))\n",
    "\n",
    "opt = optax.adam(0.02)\n",
    "state = opt.init(params)\n",
    "\n",
    "loss_values = []\n",
    "distance_values = []\n",
    "for _ in range(300):\n",
    "    (value, (response, aux)), grad = jax.value_and_grad(loss_fn, has_aux=True)(params)\n",
    "    metrics = metagrating.metrics(response, params=params, aux=aux)\n",
    "    print(value, metrics[\"distance_to_window\"])\n",
    "    loss_values.append(value)\n",
    "    distance_values.append(metrics[\"distance_to_window\"])\n",
    "    updates, state = opt.update(grad, state)\n",
    "    params = optax.apply_updates(params, updates)\n",
    "    params = types.symmetrize_density(params)\n",
    "    params = tree_util.tree_map(lambda x: jnp.clip(x, 0, 1), params)"
   ]
  },
  {
   "cell_type": "code",
   "execution_count": null,
   "id": "4488650e-c382-42aa-a9c4-269ff76658a4",
   "metadata": {},
   "outputs": [],
   "source": [
    "plt.figure(figsize=(8, 5))\n",
    "plt.subplot(121)\n",
    "plt.plot(loss_values)\n",
    "plt.plot(distance_values)\n",
    "plt.subplot(122)\n",
    "plt.imshow(params.array)\n",
    "plt.colorbar()"
   ]
  },
  {
   "cell_type": "code",
   "execution_count": null,
   "id": "8c48cb28-598e-4155-a2ff-3e7d78587699",
   "metadata": {},
   "outputs": [],
   "source": []
  }
 ],
 "metadata": {
  "kernelspec": {
   "display_name": "Python 3 (ipykernel)",
   "language": "python",
   "name": "python3"
  },
  "language_info": {
   "codemirror_mode": {
    "name": "ipython",
    "version": 3
   },
   "file_extension": ".py",
   "mimetype": "text/x-python",
   "name": "python",
   "nbconvert_exporter": "python",
   "pygments_lexer": "ipython3",
   "version": "3.10.12"
  }
 },
 "nbformat": 4,
 "nbformat_minor": 5
}
