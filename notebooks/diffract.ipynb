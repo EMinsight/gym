{
 "cells": [
  {
   "cell_type": "code",
   "execution_count": null,
   "id": "b4b78fc5-34c7-4e23-b77f-9e34a8718cd3",
   "metadata": {},
   "outputs": [],
   "source": [
    "from importlib import reload\n",
    "import dataclasses\n",
    "import jax\n",
    "from jax import tree_util\n",
    "import jax.numpy as jnp\n",
    "import matplotlib.pyplot as plt\n",
    "import numpy as onp\n",
    "import optax\n",
    "import time\n",
    "\n",
    "from fmmax import basis, fmm\n",
    "\n",
    "from totypes import types\n",
    "from invrs_gym.challenge.diffract import metagrating_challenge, splitter_challenge\n",
    "from invrs_gym.challenge.extractor import challenge, component"
   ]
  },
  {
   "cell_type": "code",
   "execution_count": null,
   "id": "d9d9f7b5-f7fe-4c09-aa37-079f7b8d1f54",
   "metadata": {},
   "outputs": [],
   "source": [
    "from invrs_gym.utils import optimizer\n",
    "reload(optimizer)\n",
    "\n",
    "\n",
    "def optimize(challenge, opt, num_steps, response_kwargs={}, use_jit=True):\n",
    "    params, state, step_fn = optimizer.setup_optimization(\n",
    "        challenge=challenge, optimizer=opt, response_kwargs=response_kwargs\n",
    "    )\n",
    "    if use_jit:\n",
    "        step_fn = jax.jit(step_fn)\n",
    "\n",
    "    loss_values = []\n",
    "    metrics_values = []\n",
    "    for i in range(num_steps):\n",
    "        try:\n",
    "            t0 = time.time()\n",
    "            params, state, (value, response, aux, metrics) = step_fn(params, state)\n",
    "            print(f\"step {i} ({time.time() - t0:.2f}s): loss={value}\")\n",
    "            loss_values.append(value)\n",
    "            metrics_values.append(metrics)\n",
    "        except Exception as e:\n",
    "            if \"KeyboardInterrupt\" in str(e):\n",
    "                print(\"Terminating optimization\")\n",
    "                break\n",
    "            else:\n",
    "                raise e\n",
    "\n",
    "    return params, response, aux, loss_values, metrics_values"
   ]
  },
  {
   "cell_type": "code",
   "execution_count": null,
   "id": "b521450f-9acc-49c4-aa0e-e3b368a6acd1",
   "metadata": {},
   "outputs": [],
   "source": [
    "(\n",
    "    metagrating_params,\n",
    "    metagrating_response,\n",
    "    metagrating_aux,\n",
    "    metagrating_loss_values,utils\n",
    "    metagrating_metrics_values\n",
    ") = optimize(\n",
    "    metagrating_challenge.metagrating(),\n",
    "    opt=optax.adam(0.02),\n",
    "    num_steps=200,\n",
    ")"
   ]
  },
  {
   "cell_type": "code",
   "execution_count": null,
   "id": "33fd7ccb-9f29-4485-9047-deafa3b9b888",
   "metadata": {},
   "outputs": [],
   "source": [
    "plt.figure(figsize=(8, 5))\n",
    "plt.subplot(121)\n",
    "plt.plot(metagrating_loss_values)\n",
    "plt.plot([m[\"distance_to_window\"] for m in metagrating_metrics_values])\n",
    "plt.subplot(122)\n",
    "plt.imshow(jnp.tile(metagrating_params.array, (1, 1)))\n",
    "plt.colorbar()"
   ]
  },
  {
   "cell_type": "code",
   "execution_count": null,
   "id": "a51052d2-54a7-4120-bb06-1c61f176d18d",
   "metadata": {},
   "outputs": [],
   "source": [
    "(\n",
    "    splitter_params,\n",
    "    splitter_response,\n",
    "    splitter_aux,\n",
    "    splitter_loss_values,\n",
    "    splitter_metrics_values\n",
    ") = optimize(\n",
    "    splitter_challenge.diffractive_splitter(),\n",
    "    opt=optax.adam(0.02),\n",
    "    num_steps=100,\n",
    ")"
   ]
  },
  {
   "cell_type": "code",
   "execution_count": null,
   "id": "fd5bb84f-f672-4751-836b-4d05fd7da40f",
   "metadata": {},
   "outputs": [],
   "source": [
    "print(f\"thickness={splitter_params['thickness'].array}\")\n",
    "for key, value in splitter_metrics_values[-1].items():\n",
    "    print(f\"{key}={value}\")\n",
    "\n",
    "plt.figure(figsize=(12, 5))\n",
    "plt.subplot(131)\n",
    "plt.plot(splitter_loss_values)\n",
    "plt.subplot(132)\n",
    "plt.imshow(jnp.tile(splitter_params[\"density\"].array, (2, 2)))\n",
    "\n",
    "plt.subplot(133)\n",
    "plt.imshow(splitter_challenge.extract_orders_for_splitting(\n",
    "    splitter_response.transmission_efficiency,\n",
    "    splitter_response.expansion,\n",
    "    (9, 9),\n",
    "))"
   ]
  },
  {
   "cell_type": "code",
   "execution_count": null,
   "id": "c16fae32-856c-4b0a-9d62-8a1efc2402bb",
   "metadata": {},
   "outputs": [],
   "source": [
    "pec = challenge.photon_extractor()\n",
    "\n",
    "(\n",
    "    extractor_loss_values,\n",
    "    extractor_metrics_values,\n",
    "    extractor_response,\n",
    "    extractor_params,\n",
    "    extractor_aux,\n",
    ") = optimize(challenge=pec, opt=optax.adam(0.02), num_steps=100)\n",
    "\n",
    "extractor_aux = pec.component.response(extractor_params, compute_fields=True)"
   ]
  },
  {
   "cell_type": "code",
   "execution_count": null,
   "id": "e5da18a7-65b9-4798-b0a3-5b05d90e4697",
   "metadata": {},
   "outputs": [],
   "source": [
    "x, y, z = extractor_aux[\"field_coordinates\"]\n",
    "ex, ey, ez = extractor_aux[\"efield\"]\n",
    "\n",
    "print(extractor_response)\n",
    "\n",
    "plt.figure(figsize=(10, 4))\n",
    "xplot, zplot = jnp.meshgrid(x, z, indexing=\"ij\")\n",
    "field_plot = jnp.sqrt(jnp.abs(ex)**2 + jnp.abs(ey)**2 + jnp.abs(ez)**2)\n",
    "ax = plt.subplot(121)\n",
    "plt.pcolormesh(xplot, zplot, field_plot[:, :, 1], cmap=\"magma\")\n",
    "ax.axis(\"equal\")\n",
    "ax.axis(\"off\")\n",
    "ax.set_ylim(ax.get_ylim()[::-1])\n",
    "\n",
    "ax = plt.subplot(122)\n",
    "plt.imshow(extractor_params.array, cmap=\"gray\")\n",
    "ax.axis(\"off\")"
   ]
  },
  {
   "cell_type": "code",
   "execution_count": null,
   "id": "e5514da1-5ae2-4d91-a4dc-997bf21aadd8",
   "metadata": {},
   "outputs": [],
   "source": []
  }
 ],
 "metadata": {
  "kernelspec": {
   "display_name": "Python 3 (ipykernel)",
   "language": "python",
   "name": "python3"
  },
  "language_info": {
   "codemirror_mode": {
    "name": "ipython",
    "version": 3
   },
   "file_extension": ".py",
   "mimetype": "text/x-python",
   "name": "python",
   "nbconvert_exporter": "python",
   "pygments_lexer": "ipython3",
   "version": "3.10.12"
  }
 },
 "nbformat": 4,
 "nbformat_minor": 5
}
