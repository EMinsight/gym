{
 "cells": [
  {
   "cell_type": "code",
   "execution_count": null,
   "id": "b4b78fc5-34c7-4e23-b77f-9e34a8718cd3",
   "metadata": {},
   "outputs": [],
   "source": [
    "from importlib import reload\n",
    "\n",
    "import jax\n",
    "from jax import tree_util\n",
    "import jax.numpy as jnp\n",
    "import matplotlib.pyplot as plt\n",
    "import numpy as onp\n",
    "import optax\n",
    "\n",
    "from totypes import types\n",
    "from invrs_gym.challenge.diffract import metagrating_challenge, splitter_challenge"
   ]
  },
  {
   "cell_type": "code",
   "execution_count": null,
   "id": "8c48cb28-598e-4155-a2ff-3e7d78587699",
   "metadata": {},
   "outputs": [],
   "source": [
    "def optimize(challenge, opt=optax.adam(0.02), num_steps=200):\n",
    "\n",
    "    def loss_fn(params):\n",
    "        response, aux = challenge.component.response(params)\n",
    "        loss = challenge.loss(response)\n",
    "        return loss, (response, aux)\n",
    "    \n",
    "    def clip(leaf):\n",
    "        (value,), treedef = tree_util.tree_flatten(leaf)\n",
    "        return tree_util.tree_unflatten(\n",
    "            treedef, (jnp.clip(value, leaf.lower_bound, leaf.upper_bound),)\n",
    "        )\n",
    "    \n",
    "    def transform(leaf):\n",
    "        if isinstance(leaf, types.BoundedArray):\n",
    "            return clip(leaf)\n",
    "        if isinstance(leaf, types.Density2DArray):\n",
    "            return clip(types.symmetrize_density(leaf))\n",
    "        return leaf  \n",
    "    \n",
    "    @jax.jit\n",
    "    def step_fn(params, state):\n",
    "        (value, (response, aux)), grad = jax.value_and_grad(loss_fn, has_aux=True)(params)\n",
    "        metrics = challenge.metrics(response, params, aux)\n",
    "        updates, state = opt.update(grad, state)\n",
    "        params = optax.apply_updates(params, updates)\n",
    "        params = tree_util.tree_map(\n",
    "            transform, params, is_leaf=lambda x: isinstance(x, types.CUSTOM_TYPES)\n",
    "        )\n",
    "        params = tree_util.tree_map(lambda x: jnp.clip(x, 0, 1), params)\n",
    "        return params, state, (value, response, aux, metrics)\n",
    "\n",
    "    params = challenge.component.init(jax.random.PRNGKey(0))\n",
    "    state = opt.init(params)\n",
    "    \n",
    "    loss_values = []\n",
    "    metrics_values = []\n",
    "    for i in range(num_steps):\n",
    "        params, state, (value, response, aux, metrics) = step_fn(params, state)\n",
    "        print(i, value)\n",
    "        loss_values.append(value)\n",
    "        metrics_values.append(metrics)\n",
    "\n",
    "    return loss_values, metrics_values, response, params"
   ]
  },
  {
   "cell_type": "code",
   "execution_count": null,
   "id": "e93003c2-a171-42f9-8a71-25cf36a64f7f",
   "metadata": {},
   "outputs": [],
   "source": [
    "(\n",
    "    splitter_loss_values,\n",
    "    splitter_metrics_values,\n",
    "    splitter_response,\n",
    "    splitter_params,\n",
    ") = optimize(splitter_challenge.diffractive_splitter(), num_steps=5)"
   ]
  },
  {
   "cell_type": "code",
   "execution_count": null,
   "id": "919401d9-38c9-4d0b-a61f-2e5b345c1a6b",
   "metadata": {},
   "outputs": [],
   "source": [
    "for key, value in splitter_metrics_values[-1].items():\n",
    "    print(f\"{key}={value}\")"
   ]
  },
  {
   "cell_type": "code",
   "execution_count": null,
   "id": "48d6daae-c79e-4852-947c-a4a17ea8482a",
   "metadata": {},
   "outputs": [],
   "source": [
    "plt.figure(figsize=(8, 5))\n",
    "plt.subplot(121)\n",
    "plt.plot(splitter_loss_values)\n",
    "plt.subplot(122)\n",
    "plt.imshow(jnp.tile(splitter_params[\"density\"].array, (2, 2)))\n",
    "plt.colorbar()"
   ]
  },
  {
   "cell_type": "code",
   "execution_count": null,
   "id": "eed3eac7-b03e-4c24-86da-b1380cbfda29",
   "metadata": {},
   "outputs": [],
   "source": [
    "plt.imshow(splitter_challenge.extract_orders_for_splitting(\n",
    "    splitter_response.transmission_efficiency,\n",
    "    splitter_response.expansion,\n",
    "    (9, 9),\n",
    "))\n",
    "plt.colorbar()"
   ]
  },
  {
   "cell_type": "code",
   "execution_count": null,
   "id": "b818f159-a136-4c63-8cce-37ec6a371d4c",
   "metadata": {},
   "outputs": [],
   "source": [
    "(\n",
    "    metagrating_loss_values,\n",
    "    metagrating_metrics_values,\n",
    "    metagrating_response,\n",
    "    metagrating_params,\n",
    ") = optimize(metagrating_challenge.metagrating(), num_steps=5)"
   ]
  },
  {
   "cell_type": "code",
   "execution_count": null,
   "id": "5eba56e1-7bd0-4e8d-bd6e-95e6f58b67ef",
   "metadata": {},
   "outputs": [],
   "source": [
    "plt.figure(figsize=(8, 5))\n",
    "plt.subplot(121)\n",
    "plt.plot(metagrating_loss_values)\n",
    "plt.subplot(122)\n",
    "plt.imshow(jnp.tile(metagrating_params.array, (2, 2)))\n",
    "plt.colorbar()"
   ]
  },
  {
   "cell_type": "code",
   "execution_count": null,
   "id": "497cf599-5593-49b0-9deb-09f0a77d69a2",
   "metadata": {},
   "outputs": [],
   "source": []
  }
 ],
 "metadata": {
  "kernelspec": {
   "display_name": "Python 3 (ipykernel)",
   "language": "python",
   "name": "python3"
  },
  "language_info": {
   "codemirror_mode": {
    "name": "ipython",
    "version": 3
   },
   "file_extension": ".py",
   "mimetype": "text/x-python",
   "name": "python",
   "nbconvert_exporter": "python",
   "pygments_lexer": "ipython3",
   "version": "3.10.12"
  }
 },
 "nbformat": 4,
 "nbformat_minor": 5
}
