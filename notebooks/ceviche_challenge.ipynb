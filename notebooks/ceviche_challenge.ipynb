{
 "cells": [
  {
   "cell_type": "code",
   "execution_count": null,
   "id": "b4b78fc5-34c7-4e23-b77f-9e34a8718cd3",
   "metadata": {},
   "outputs": [],
   "source": [
    "import time\n",
    "\n",
    "import jax\n",
    "import jax.numpy as jnp\n",
    "import matplotlib.pyplot as plt\n",
    "import numpy as onp\n",
    "from skimage import measure\n",
    "\n",
    "import invrs_opt\n",
    "\n",
    "from invrs_gym import challenges"
   ]
  },
  {
   "cell_type": "code",
   "execution_count": null,
   "id": "c686d9db-0353-4c2c-b949-adccb8e3aff6",
   "metadata": {},
   "outputs": [],
   "source": [
    "# Select the challenge to be solved.\n",
    "challenge = challenges.ceviche_lightweight_beam_splitter()\n",
    "\n",
    "\n",
    "# Define the loss function; in this case we simply use the default challenge\n",
    "# loss. Note that the loss function can return auxilliary quantities.\n",
    "def loss_fn(params):\n",
    "    response, aux = challenge.component.response(params)\n",
    "    loss = challenge.loss(response)\n",
    "    distance = challenge.distance_to_target(response)\n",
    "    metrics = challenge.metrics(response, params, aux)\n",
    "    return loss, (response, aux, distance, metrics)\n",
    "\n",
    "\n",
    "# Get the initial parameters, and initialize the optimizer.\n",
    "params = challenge.component.init(jax.random.PRNGKey(0))\n",
    "opt = invrs_opt.density_lbfgsb(beta=4)\n",
    "state = opt.init(params)\n",
    "\n",
    "value_and_grad_fn = jax.value_and_grad(loss_fn, has_aux=True)\n",
    "\n",
    "# Carry out optimization for a fixed number of steps.\n",
    "loss_values = []\n",
    "distance_values = []\n",
    "metrics_values = []\n",
    "for i in range(25):\n",
    "    t0 = time.time()\n",
    "    params = opt.params(state)\n",
    "    (value, (response, aux, distance, metrics)), grad = value_and_grad_fn(params)\n",
    "    t1 = time.time()\n",
    "    state = opt.update(grad=grad, value=value, params=params, state=state)\n",
    "\n",
    "    print(\n",
    "        f\"{i:03} ({t1 - t0:.2f}/{time.time() - t1:.2f}s): loss={value:.3f}, distance={distance:.3f}\"\n",
    "    )\n",
    "    loss_values.append(value)\n",
    "    distance_values.append(distance)\n",
    "    metrics_values.append(metrics)"
   ]
  },
  {
   "cell_type": "code",
   "execution_count": null,
   "id": "6a01ab00-8edd-4aca-adff-892925829df3",
   "metadata": {},
   "outputs": [],
   "source": [
    "# Plot the loss vs. step, and the `distance_to_target`. When the distance is\n",
    "# zero or negative, the challenge is considered to be solved.\n",
    "step = onp.arange(len(loss_values))\n",
    "distance_to_target = onp.asarray(distance_values)\n",
    "mask = distance_to_target <= 0\n",
    "\n",
    "plt.figure(figsize=(8, 4))\n",
    "plt.subplot(121)\n",
    "plt.semilogy(step, loss_values)\n",
    "plt.xlabel(\"Step\")\n",
    "plt.ylabel(\"Loss value\")\n",
    "plt.subplot(122)\n",
    "plt.plot(step, distance_to_target)\n",
    "plt.plot(step[mask], distance_to_target[mask], \"bo\")\n",
    "plt.xlabel(\"Step\")\n",
    "plt.ylabel(\"Distance to target\")\n",
    "\n",
    "plt.tight_layout()"
   ]
  },
  {
   "cell_type": "code",
   "execution_count": null,
   "id": "5423b32a-44cd-4bb5-97e8-a0c36813b2c5",
   "metadata": {},
   "outputs": [],
   "source": [
    "plt.figure(figsize=(8, 5))\n",
    "\n",
    "# Plot fields, using some of the methods specific to the underlying ceviche model.\n",
    "density = challenge.component.ceviche_model.density(params.array)\n",
    "\n",
    "ax = plt.subplot(121)\n",
    "ax.imshow(density, cmap=\"gray\")\n",
    "ax.axis(False)\n",
    "\n",
    "# Plot the field, which is a part of the `aux` returned with the challenge response.\n",
    "# The field will be overlaid with contours of the binarized design.\n",
    "field = onp.real(aux[\"fields\"])\n",
    "field = field[0, 0, :, :]  # First wavelength, first excitation port.\n",
    "contours = measure.find_contours(density)\n",
    "\n",
    "ax = plt.subplot(122)\n",
    "im = ax.imshow(field, cmap=\"bwr\")\n",
    "im.set_clim([-onp.amax(field), onp.amax(field)])\n",
    "for c in contours:\n",
    "    plt.plot(c[:, 1], c[:, 0], \"k\", lw=1)\n",
    "ax.axis(False)\n",
    "\n",
    "plt.tight_layout()"
   ]
  },
  {
   "cell_type": "code",
   "execution_count": null,
   "id": "06a865fd-017c-441a-8cf0-9ed8bb2a5e3b",
   "metadata": {},
   "outputs": [],
   "source": []
  },
  {
   "cell_type": "code",
   "execution_count": null,
   "id": "b650b778-05da-42d0-bb36-e1b5c213c8cd",
   "metadata": {},
   "outputs": [],
   "source": []
  }
 ],
 "metadata": {
  "kernelspec": {
   "display_name": "Python 3 (ipykernel)",
   "language": "python",
   "name": "python3"
  },
  "language_info": {
   "codemirror_mode": {
    "name": "ipython",
    "version": 3
   },
   "file_extension": ".py",
   "mimetype": "text/x-python",
   "name": "python",
   "nbconvert_exporter": "python",
   "pygments_lexer": "ipython3",
   "version": "3.10.12"
  }
 },
 "nbformat": 4,
 "nbformat_minor": 5
}
