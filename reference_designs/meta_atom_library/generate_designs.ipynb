{
 "cells": [
  {
   "cell_type": "markdown",
   "metadata": {},
   "source": [
    "This notebook generates the designs from \"[Dispersion-engineered metasurfaces reaching broadband 90% relative diffraction efficiency](https://www.nature.com/articles/s41467-023-38185-2)\" by Chen et al.\n",
    "\n",
    "The detailed layout and dimensions for the meta-atoms are in the [supplementary material](https://static-content.springer.com/esm/art%3A10.1038%2Fs41467-023-38185-2/MediaObjects/41467_2023_38185_MOESM1_ESM.pdf)."
   ]
  },
  {
   "cell_type": "code",
   "execution_count": null,
   "metadata": {},
   "outputs": [],
   "source": [
    "import numpy as onp\n",
    "import matplotlib.pyplot as plt\n",
    "from skimage import measure\n",
    "\n",
    "def plus_nanostructure(x1, x2, y1, y2, dim):\n",
    "    \"\"\"Return density array for plus-shaped nanostructures.\"\"\"\n",
    "    x, y = onp.meshgrid(\n",
    "        onp.arange(-dim // 2, dim // 2) + 0.5,\n",
    "        onp.arange(-dim // 2, dim // 2) + 0.5,\n",
    "        indexing=\"ij\",\n",
    "    )\n",
    "    p = onp.ones(x.shape, dtype=bool)\n",
    "    p &= (x < x1 / 2) & (x > -x1 / 2)\n",
    "    p &= (y < y1 / 2) & (y > -y1 / 2)\n",
    "    p &= (x < x2 / 2) & (x > -x2 / 2) | ((y < y2 / 2) & (y > -y2 / 2))\n",
    "    return p.astype(float)\n",
    "\n",
    "def ibeam_nanostructure(x1, x2, y1, y2, dim, rotate):\n",
    "    \"\"\"Return density array for ibeam-shaped nanostructures.\"\"\"\n",
    "    x, y = onp.meshgrid(\n",
    "        onp.arange(-dim // 2, dim // 2) + 0.5,\n",
    "        onp.arange(-dim // 2, dim // 2) + 0.5,\n",
    "        indexing=\"ij\",\n",
    "    )\n",
    "    p = onp.ones(x.shape, dtype=bool)\n",
    "    p &= (x < x1 / 2) & (x > -x1 / 2)\n",
    "    p &= (y < y1 / 2) & (y > -y1 / 2)\n",
    "    p &= (x > x2 / 2) | (x < -x2 / 2) | (y < (y1 / 2 - y2)) & (y > -(y1 / 2 - y2))\n",
    "    if rotate:\n",
    "        p = onp.rot90(p)\n",
    "    return p.astype(float)\n",
    "\n",
    "# Create the density arrays for the 8 meta-atoms from the library. Values are\n",
    "# taken from figure S3 of Chen et al.\n",
    "nanostructures = (\n",
    "    plus_nanostructure(x1=156, x2=86, y1=140, y2=86, dim=400),\n",
    "    plus_nanostructure(x1=230, x2=60, y1=220, y2=60, dim=400),\n",
    "    ibeam_nanostructure(y1=200, y2=60, x1=200, x2=80, dim=400, rotate=False),\n",
    "    ibeam_nanostructure(y1=320, y2=120, x1=180, x2=60, dim=400, rotate=True),\n",
    "    ibeam_nanostructure(y1=340, y2=120, x1=180, x2=60, dim=400, rotate=True),\n",
    "    ibeam_nanostructure(y1=340, y2=130, x1=280, x2=80, dim=400, rotate=True),\n",
    "    ibeam_nanostructure(y1=320, y2=110, x1=300, x2=60, dim=400, rotate=True),\n",
    "    ibeam_nanostructure(y1=340, y2=90, x1=300, x2=60, dim=400, rotate=True),\n",
    ")\n",
    "\n",
    "# Plot the eight meta-atoms.\n",
    "_, axs = plt.subplots(2, 4, figsize=(8, 4))\n",
    "for i, ax in enumerate(axs.flatten()):\n",
    "    im = ax.imshow(1 - nanostructures[i], cmap=\"gray\")\n",
    "    im.set_clim([-2, 1])\n",
    "    for c in measure.find_contours(nanostructures[i]):\n",
    "        ax.plot(c[:, 1], c[:, 0], \"k\", lw=1)\n",
    "    ax.set_xticks([])\n",
    "    ax.set_yticks([])\n",
    "plt.subplots_adjust(hspace=0.1, wspace=0.1)"
   ]
  },
  {
   "cell_type": "code",
   "execution_count": null,
   "metadata": {},
   "outputs": [],
   "source": [
    "import jax\n",
    "import jax.numpy as jnp\n",
    "from invrs_gym.challenges import meta_atom_library\n",
    "from invrs_gym.utils import transforms\n",
    "\n",
    "challenge = meta_atom_library()\n",
    "params = challenge.component.init(jax.random.PRNGKey(0))\n",
    "\n",
    "# Resample from 1 nm grid spacing to 5 nm grid spacing.\n",
    "resampled_nanostructures = transforms.resample(jnp.stack(nanostructures), (8, 80, 80))\n",
    "params[\"density\"].array = resampled_nanostructures"
   ]
  },
  {
   "cell_type": "code",
   "execution_count": null,
   "metadata": {},
   "outputs": [],
   "source": [
    "from totypes import json_utils\n",
    "\n",
    "with open(\"library1.json\", \"w\") as f:\n",
    "    f.write(json_utils.json_from_pytree(params))"
   ]
  }
 ],
 "metadata": {
  "kernelspec": {
   "display_name": "invrs-cpu",
   "language": "python",
   "name": "python3"
  },
  "language_info": {
   "codemirror_mode": {
    "name": "ipython",
    "version": 3
   },
   "file_extension": ".py",
   "mimetype": "text/x-python",
   "name": "python",
   "nbconvert_exporter": "python",
   "pygments_lexer": "ipython3",
   "version": "3.10.12"
  }
 },
 "nbformat": 4,
 "nbformat_minor": 2
}
