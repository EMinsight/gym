{
 "cells": [
  {
   "cell_type": "markdown",
   "metadata": {},
   "source": [
    "This notebook pre-processes designs from the [photonics-opt-testbed](https://github.com/NanoComp/photonics-opt-testbed/tree/main/RGB_metalens) repo, e.g. by trimming whitespace and adjusting the `.csv` file format."
   ]
  },
  {
   "cell_type": "code",
   "execution_count": null,
   "metadata": {},
   "outputs": [],
   "source": [
    "import glob\n",
    "\n",
    "import matplotlib.pyplot as plt\n",
    "import numpy as onp\n",
    "\n",
    "\n",
    "def process_reference_design(fname, overwrite):\n",
    "    design = onp.genfromtxt(fname, delimiter=\",\")\n",
    "\n",
    "    # The `Ex` designs have solid on the substrate side, and void on the ambient side.\n",
    "    # The `Ey` designs are completely surrounded by void.\n",
    "    design_type = fname.split(\"/\")[-2]\n",
    "    assert design_type in (\"Ex\", \"Ez\")\n",
    "    pad_value_cap = 0\n",
    "    pad_value_base = 0 if design_type == \"Ez\" else 1\n",
    "\n",
    "    lo = 0\n",
    "    for i in range(design.shape[1]):\n",
    "        if not onp.all(design[:, i] == pad_value_base):\n",
    "            lo = i\n",
    "            break\n",
    "\n",
    "    hi = design.shape[1]\n",
    "    for i in range(design.shape[1], -1, -1):\n",
    "        if not onp.all(design[:, i - 1] == pad_value_cap):\n",
    "            hi = i\n",
    "            break\n",
    "\n",
    "    assert lo == 0 or onp.all(design[:, lo - 1] == pad_value_base)\n",
    "    assert hi == design.shape[1] - 1 or onp.all(design[:, hi + 1] == pad_value_cap)\n",
    "    cropped_design = design[:, lo:hi]\n",
    "\n",
    "    cropped_design = onp.pad(\n",
    "        cropped_design, ((0, 0), (1, 0)), constant_values=pad_value_base\n",
    "    )\n",
    "    cropped_design = onp.pad(\n",
    "        cropped_design, ((0, 0), (0, 1)), constant_values=pad_value_cap\n",
    "    )\n",
    "\n",
    "    if overwrite:\n",
    "        onp.savetxt(fname, cropped_design, fmt=\"%.2f\", delimiter=\",\")\n",
    "\n",
    "    return cropped_design, design\n",
    "\n",
    "\n",
    "fnames = glob.glob(\"*/*.csv\")\n",
    "plt.figure(figsize=(18, 1.5 * len(fnames)))\n",
    "for i, fname in enumerate(fnames):\n",
    "    design, original_design = process_reference_design(fname, overwrite=False)\n",
    "    ax = plt.subplot(len(fnames), 2, 2 * i + 1)\n",
    "    im = ax.imshow(onp.rot90(original_design), cmap=\"gray\")\n",
    "    ax.axis(False)\n",
    "\n",
    "    ax = plt.subplot(len(fnames), 2, 2 * i + 2)\n",
    "    im = ax.imshow(onp.rot90(design), cmap=\"gray\")\n",
    "    ax.axis(False)"
   ]
  }
 ],
 "metadata": {
  "kernelspec": {
   "display_name": "invrs",
   "language": "python",
   "name": "python3"
  },
  "language_info": {
   "codemirror_mode": {
    "name": "ipython",
    "version": 3
   },
   "file_extension": ".py",
   "mimetype": "text/x-python",
   "name": "python",
   "nbconvert_exporter": "python",
   "pygments_lexer": "ipython3",
   "version": "3.10.12"
  }
 },
 "nbformat": 4,
 "nbformat_minor": 2
}
