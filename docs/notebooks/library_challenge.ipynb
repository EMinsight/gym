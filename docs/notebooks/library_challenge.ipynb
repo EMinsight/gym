{
 "cells": [
  {
   "cell_type": "markdown",
   "metadata": {},
   "source": [
    "# Meta-atom library\n",
    "\n",
    "The meta-atom library challenge entails designing a library of sub-wavelength meta-atoms that impart a phase shift to normally-incident plane waves. The challenge targets three wavelengths: 450 nm, 550 nm, and 650 nm, and so a meta-lens built from the meta-atom library could be used for broadband visible light applications.\n",
    "\n",
    "\n",
    "The challenge is based on \"[Dispersion-engineered metasurfaces reaching broadband 90% relative diffraction efficiency](https://www.nature.com/articles/s41467-023-38185-2)\" by Chen et al., in which meta-atoms were found by a particle swarm approach and FDTD simulation. In this notebook we will load their designs and re-simulate them using [fmmax](https://github.com/facebookresearch/fmmax) (i.e. an RCWA code)."
   ]
  },
  {
   "cell_type": "markdown",
   "metadata": {},
   "source": [
    "## Simulating existing designs\n",
    "\n",
    "The reference designs are depicted in the [supplementary material](https://static-content.springer.com/esm/art%3A10.1038%2Fs41467-023-38185-2/MediaObjects/41467_2023_38185_MOESM1_ESM.pdf) for the paper by Chen et al, figure S3. Designs are either \"plus\" or \"I-beam\" shaped, with the I-beam shapes possibly being rotated. Write some functions to generate these designs, and plot."
   ]
  },
  {
   "cell_type": "code",
   "execution_count": null,
   "metadata": {},
   "outputs": [],
   "source": [
    "import numpy as onp\n",
    "import matplotlib.pyplot as plt\n",
    "from skimage import measure\n",
    "\n",
    "def plus_nanostructure(x1, x2, y1, y2, dim):\n",
    "    \"\"\"Return density array for plus-shaped nanostructures.\"\"\"\n",
    "    x, y = onp.meshgrid(\n",
    "        onp.arange(-dim // 2, dim // 2),\n",
    "        onp.arange(-dim // 2, dim // 2),\n",
    "        indexing=\"ij\",\n",
    "    )\n",
    "    p = onp.ones(x.shape, dtype=bool)\n",
    "    p &= (x < x1 / 2) & (x > -x1 / 2)\n",
    "    p &= (y < y1 / 2) & (y > -y1 / 2)\n",
    "    p &= (x < x2 / 2) & (x > -x2 / 2) | ((y < y2 / 2) & (y > -y2 / 2))\n",
    "    return p.astype(float)\n",
    "\n",
    "def ibeam_nanostructure(x1, x2, y1, y2, dim, rotate):\n",
    "    \"\"\"Return density array for ibeam-shaped nanostructures.\"\"\"\n",
    "    x, y = onp.meshgrid(\n",
    "        onp.arange(-dim // 2, dim // 2),\n",
    "        onp.arange(-dim // 2, dim // 2),\n",
    "        indexing=\"ij\",\n",
    "    )\n",
    "    p = onp.ones(x.shape, dtype=bool)\n",
    "    p &= (x < x1 / 2) & (x > -x1 / 2)\n",
    "    p &= (y < y1 / 2) & (y > -y1 / 2)\n",
    "    p &= (x > x2 / 2) | (x < -x2 / 2) | (y < (y1 / 2 - y2)) & (y > -(y1 / 2 - y2))\n",
    "    if rotate:\n",
    "        p = onp.rot90(p)\n",
    "    return p.astype(float)\n",
    "\n",
    "# Create the density arrays for the 8 meta-atoms from the library. Values are\n",
    "# taken from figure S3 of Chen et al.\n",
    "nanostructures = (\n",
    "    plus_nanostructure(x1=156, x2=86, y1=140, y2=86, dim=400),\n",
    "    plus_nanostructure(x1=230, x2=60, y1=220, y2=60, dim=400),\n",
    "    ibeam_nanostructure(y1=200, y2=60, x1=200, x2=80, dim=400, rotate=False),\n",
    "    ibeam_nanostructure(y1=320, y2=120, x1=180, x2=60, dim=400, rotate=True),\n",
    "    ibeam_nanostructure(y1=340, y2=120, x1=180, x2=60, dim=400, rotate=True),\n",
    "    ibeam_nanostructure(y1=340, y2=130, x1=280, x2=80, dim=400, rotate=True),\n",
    "    ibeam_nanostructure(y1=320, y2=110, x1=300, x2=60, dim=400, rotate=True),\n",
    "    ibeam_nanostructure(y1=340, y2=90, x1=300, x2=60, dim=400, rotate=True),\n",
    ")\n",
    "\n",
    "# Plot the eight meta-atoms.\n",
    "_, axs = plt.subplots(2, 4, figsize=(8, 4))\n",
    "for i, ax in enumerate(axs.flatten()):\n",
    "    im = ax.imshow(1 - nanostructures[i], cmap=\"gray\")\n",
    "    im.set_clim([-2, 1])\n",
    "    for c in measure.find_contours(nanostructures[i]):\n",
    "        ax.plot(c[:, 1], c[:, 0], \"k\", lw=1)\n",
    "    ax.set_xticks([])\n",
    "    ax.set_yticks([])\n",
    "plt.subplots_adjust(hspace=0.1, wspace=0.1)"
   ]
  },
  {
   "cell_type": "markdown",
   "metadata": {},
   "source": [
    "Figures 2a and 2b of Chen et al. plot the expected relative phase for the conserved and converted polarizations. We extracted the values from the figure, and replot them here."
   ]
  },
  {
   "cell_type": "code",
   "execution_count": null,
   "metadata": {},
   "outputs": [],
   "source": [
    "# Data from figs 2a and 2b of Chen et al.\n",
    "expected_conserved = (\n",
    "    (0.000, 0.501, 1.137, 1.910, 2.259, 3.693, 4.005, 4.641),  # 450 nm\n",
    "    (0.000, 0.925, 1.898, 2.783, 3.195, 4.354, 5.140, 5.738),  # 550 nm\n",
    "    (0.000, 0.451, 1.212, 1.985, 2.471, 3.843, 4.641, 5.489),  # 650 nm\n",
    ")\n",
    "expected_converted = (\n",
    "    (0.000, 0.502, 1.137, 1.945, 2.306, 3.600, 3.861, 4.843),  # 450 nm\n",
    "    (0.000, 0.900, 2.331, 2.567, 3.052, 4.308, 4.433, 5.540),  # 550 nm\n",
    "    (0.000, 0.391, 1.137, 1.821, 2.194, 3.749, 4.632, 5.465),  # 650 nm\n",
    ")\n",
    "\n",
    "_, axs = plt.subplots(2, 3, figsize=(8, 5))\n",
    "for i, wavelength in enumerate([0.45, 0.55, 0.65]):\n",
    "    axs[0, i].set_ylim([-0.2, 2 * onp.pi + 0.2])\n",
    "    axs[1, i].set_ylim([-0.2, 2 * onp.pi + 0.2])\n",
    "    axs[0, i].set_title(f\"$\\lambda$={wavelength:.3f}$\\mu$m\", fontsize=10)\n",
    "    if i > 0:\n",
    "        axs[0, i].set_yticklabels([])\n",
    "        axs[1, i].set_yticklabels([])\n",
    "    axs[0, i].set_xticklabels([])\n",
    "    axs[1, i].set_xlabel(\"meta-atom index\")\n",
    "\n",
    "    axs[0, i].plot((0, 7), (0, 2 * onp.pi * 7 / 8), \"k--\", lw=1)\n",
    "    axs[1, i].plot((0, 7), (0, 2 * onp.pi * 7 / 8), \"k--\", lw=1)\n",
    "\n",
    "    axs[0, i].plot(expected_conserved[i], \"o-\")\n",
    "    axs[1, i].plot(expected_converted[i], \"o-\")\n",
    "\n",
    "\n",
    "axs[0, 0].set_ylabel(\"relative phase\\nconserved polarization\")\n",
    "_ = axs[1, 0].set_ylabel(\"relative phase\\nconverted polarization\")"
   ]
  },
  {
   "cell_type": "markdown",
   "metadata": {},
   "source": [
    "Now, we'll simulate each of these nanostructures and compute the phase imparted by each upon incident right-hand and left-hand circularly polarized light. We do this using the `meta_atom_library` challenge; first create the challenge and obtain random initial parameters---which includes the meta-atom densities, thickness of the meta-atom, and a phase offset term. Then, we'll overwrite the initial density with the reference designs (resampled so they have the expected 5 nm grid spacing)."
   ]
  },
  {
   "cell_type": "code",
   "execution_count": null,
   "metadata": {},
   "outputs": [],
   "source": [
    "import jax\n",
    "import jax.numpy as jnp\n",
    "from invrs_gym.challenges import meta_atom_library\n",
    "from invrs_gym.utils import transforms\n",
    "\n",
    "challenge = meta_atom_library()\n",
    "params = challenge.component.init(jax.random.PRNGKey(0))\n",
    "\n",
    "# Resample from 1 nm grid spacing to 5 nm grid spacing.\n",
    "resampled_nanostructures = transforms.resample(jnp.stack(nanostructures), (8, 80, 80))\n",
    "params[\"density\"].array = resampled_nanostructures"
   ]
  },
  {
   "cell_type": "markdown",
   "metadata": {},
   "source": [
    "Now, we'll simulate each meta-atom, using the `component.response` method."
   ]
  },
  {
   "cell_type": "code",
   "execution_count": null,
   "metadata": {},
   "outputs": [],
   "source": [
    "response, _ = challenge.component.response(params)"
   ]
  },
  {
   "cell_type": "markdown",
   "metadata": {},
   "source": [
    "Extract the phase of the conserved and converted polarization components, and compare these to values taken from Chen et al."
   ]
  },
  {
   "cell_type": "code",
   "execution_count": null,
   "metadata": {},
   "outputs": [],
   "source": [
    "def _relative_phase(t):\n",
    "    t = onp.array(t)\n",
    "    phase = onp.angle(t)\n",
    "    phase = phase - phase[0, ...]\n",
    "    phase = onp.where(phase < 0, 2 * onp.pi + phase, phase)\n",
    "    phase[1:, :] = onp.where(\n",
    "        phase[1:, :] - phase[:-1, :] < -onp.pi,\n",
    "        2 * onp.pi + phase[1:, :],\n",
    "        phase[1:, :],\n",
    "    )\n",
    "    return phase\n",
    "\n",
    "phase_conserved = _relative_phase(response.transmission_rhcp[:, :, 0])\n",
    "phase_converted = _relative_phase(response.transmission_rhcp[:, :, 1])\n",
    "\n",
    "_, axs = plt.subplots(2, 3, figsize=(8, 5))\n",
    "for i, wavelength in enumerate([0.45, 0.55, 0.65]):\n",
    "    axs[0, i].set_ylim([-0.2, 2 * onp.pi + 0.2])\n",
    "    axs[1, i].set_ylim([-0.2, 2 * onp.pi + 0.2])\n",
    "    axs[0, i].set_title(f\"$\\lambda$={wavelength:.3f}$\\mu$m\", fontsize=10)\n",
    "    if i > 0:\n",
    "        axs[0, i].set_yticklabels([])\n",
    "        axs[1, i].set_yticklabels([])\n",
    "    axs[0, i].set_xticklabels([])\n",
    "    axs[1, i].set_xlabel(\"meta-atom index\")\n",
    "\n",
    "    axs[0, i].plot((0, 7), (0, 2 * onp.pi * 7 / 8), \"k--\", lw=1)\n",
    "    axs[1, i].plot((0, 7), (0, 2 * onp.pi * 7 / 8), \"k--\", lw=1)\n",
    "\n",
    "    axs[0, i].plot(expected_conserved[i], \"o-\", label=\"Chen et al.\")\n",
    "    axs[0, i].plot(phase_conserved[:, i], \"o-\", label=\"invrs-gym\")\n",
    "    axs[1, i].plot(expected_converted[i], \"o-\", label=\"Chen et al.\")\n",
    "    axs[1, i].plot(phase_converted[:, i], \"o-\", label=\"invrs-gym\")\n",
    "\n",
    "\n",
    "axs[0, 0].legend()\n",
    "axs[0, 0].set_ylabel(\"relative phase\\nconserved polarization\")\n",
    "_ = axs[1, 0].set_ylabel(\"relative phase\\nconverted polarization\")"
   ]
  },
  {
   "cell_type": "markdown",
   "metadata": {},
   "source": [
    "The agreement between the phases reported by Chen et al. and those found here are in good agreement, particularly for the first six nanostructures and at the central wavelength of 550 nm. The last two nanostructures show some difference in phase at the 450 nm and 650 nm wavelengths."
   ]
  },
  {
   "cell_type": "markdown",
   "metadata": {},
   "source": [
    "## Visualizing fields\n",
    "\n",
    "Figure 1b of Chen et al. shows the phase of transmitted fields for a metagrating assembled from the meta-atom library plotted above. We'll try to produce a similar figure, and start by assembling the meta-atoms into the supercell that comprises the metagrating."
   ]
  },
  {
   "cell_type": "code",
   "execution_count": null,
   "metadata": {},
   "outputs": [],
   "source": [
    "import dataclasses\n",
    "\n",
    "# Rotate and concatenate the meta-atoms into a supercell that is 8x1 in shape, matching the\n",
    "# metagrating of Chen et al. Figure 1b.\n",
    "density_tiled = dataclasses.replace(\n",
    "    params[\"density\"],\n",
    "    array=jnp.concatenate(jnp.rot90(params[\"density\"].array, axes=(1, 2)))[jnp.newaxis, :, :],\n",
    "    fixed_void=None,\n",
    ")\n",
    "\n",
    "# Plot the supercell density.\n",
    "density_tiled_plot = onp.array(density_tiled.array[0, ...].T)\n",
    "_, ax = plt.subplots(1, 1, figsize=(8, 1))\n",
    "im = ax.imshow(1 - density_tiled_plot, cmap=\"gray\")\n",
    "im.set_clim([-2, 1])\n",
    "for c in measure.find_contours(onp.array(density_tiled_plot)):\n",
    "    ax.plot(c[:, 1], c[:, 0], \"k\", lw=1)\n",
    "ax.set_xticks([])\n",
    "_ = ax.set_yticks([])"
   ]
  },
  {
   "cell_type": "markdown",
   "metadata": {},
   "source": [
    "Next, use the `simulate_library` function from the `library.component` module. This function allows us to provide supercells for simulation, as well as batched individual meta-atoms."
   ]
  },
  {
   "cell_type": "code",
   "execution_count": null,
   "metadata": {},
   "outputs": [],
   "source": [
    "from fmmax import basis, fmm\n",
    "from invrs_gym.challenges.library import component\n",
    "\n",
    "# Since the supercell is larger, it requires more Fourier terms to ensure accuracy.\n",
    "expansion = basis.generate_expansion(\n",
    "    primitive_lattice_vectors=basis.LatticeVectors(\n",
    "        u=basis.X * challenge.component.spec.pitch * 8,\n",
    "        v=basis.Y * challenge.component.spec.pitch,\n",
    "    ),\n",
    "    approximate_num_terms=1200,\n",
    "    truncation=basis.Truncation.CIRCULAR,\n",
    ")\n",
    "\n",
    "# Ensure that the `thickness_metasurface` attribute is a float, as required by\n",
    "# the simulation method. In the default spec it is a bounded array, which is\n",
    "# useful for optimization purposes.\n",
    "spec = dataclasses.replace(challenge.component.spec, thickness_metasurface=0.6)\n",
    "\n",
    "_, aux_fields = component.simulate_library(\n",
    "    density=density_tiled,\n",
    "    spec=spec,\n",
    "    wavelength=jnp.asarray([0.45, 0.55, 0.65]),\n",
    "    expansion=expansion,\n",
    "    formulation=fmm.Formulation.JONES_DIRECT_FOURIER,\n",
    "    compute_fields=True,\n",
    ")"
   ]
  },
  {
   "cell_type": "markdown",
   "metadata": {},
   "source": [
    "The phasefronts for fields in the metagrating are then plotted below."
   ]
  },
  {
   "cell_type": "code",
   "execution_count": null,
   "metadata": {},
   "outputs": [],
   "source": [
    "ex, ey, ez = aux_fields[\"efield_xz\"]\n",
    "\n",
    "x, y, z = aux_fields[\"coordinates_xz\"]\n",
    "xplot, zplot = jnp.meshgrid(x, z, indexing=\"ij\")\n",
    "z_metasurface = challenge.component.spec.thickness_ambient\n",
    "z_substrate = z_metasurface + 0.6\n",
    "\n",
    "_, axs = plt.subplots(3, 1, figsize=(6, 10))\n",
    "\n",
    "for i, (color, wavelength, ax) in enumerate(zip([\"b\", \"g\", \"r\"], [0.45, 0.55, 0.65], axs)):\n",
    "    cmap = plt.cm.colors.LinearSegmentedColormap.from_list(\"b\", [\"w\", color], N=256)\n",
    "    im = ax.pcolormesh(xplot, zplot, jnp.angle(ex)[0, i, :, :, 0], cmap=cmap)\n",
    "    ax.axis(\"equal\")\n",
    "    ax.set_ylim(ax.get_ylim()[::-1])\n",
    "    ax.plot(x, jnp.full_like(x, z_metasurface), 'k--')\n",
    "    ax.plot(x, jnp.full_like(x, z_substrate), 'k--')\n",
    "    ax.axis(False)\n",
    "    ax.set_title(f\"$\\lambda$={wavelength:.3f}$\\mu$m\")\n",
    "    plt.colorbar(im)"
   ]
  }
 ],
 "metadata": {
  "kernelspec": {
   "display_name": "invrs-cpu",
   "language": "python",
   "name": "python3"
  },
  "language_info": {
   "codemirror_mode": {
    "name": "ipython",
    "version": 3
   },
   "file_extension": ".py",
   "mimetype": "text/x-python",
   "name": "python",
   "nbconvert_exporter": "python",
   "pygments_lexer": "ipython3",
   "version": "3.10.12"
  }
 },
 "nbformat": 4,
 "nbformat_minor": 2
}
