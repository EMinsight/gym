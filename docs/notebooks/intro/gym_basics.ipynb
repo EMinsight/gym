{
 "cells": [
  {
   "cell_type": "markdown",
   "metadata": {},
   "source": [
    "# Gym basics\n",
    "\n",
    "TODO: in this section, discuss some of the basic objects in the gym ecosystem.\n",
    "\n",
    "From the `invrs_gym` package:\n",
    "- `Component`: represents the physical component to be optimized. Has `init` and `response` methods. For some components, the `response` method has optional arguments that enable calculation of fields or other quantities for visualization purposes.\n",
    "- `Challenge`: represents the challenge. Has a `Component` as an attribute, a `loss` function, an `eval_metric` function which scores a solution (higher is better), and `metrics` which returns additional relevant quantities.\n",
    "\n",
    "From the `totypes` package:\n",
    "- `Density2DArray`: array with metadata, used to parameterized layers that can be patterned. Includes metadata that can communicate desired minimum length scales to an optimizer.\n",
    "- `BoundedArray`: array with optional upper and lower bounds, used to parameterize thicknesses."
   ]
  }
 ],
 "metadata": {
  "language_info": {
   "name": "python"
  }
 },
 "nbformat": 4,
 "nbformat_minor": 2
}
