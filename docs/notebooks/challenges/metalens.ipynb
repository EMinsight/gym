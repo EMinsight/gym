{
 "cells": [
  {
   "cell_type": "markdown",
   "metadata": {},
   "source": [
    "# Metalens\n",
    "\n",
    "The metalens challenge entails designing a one-dimensional metalens that focuses blue, green, and red light (450 nm, 550 nm, and 650 nm) to the same point in space. This problem was studied in \"[Validation and characterization of algorithms and software for photonics inverse design](https://opg.optica.org/josab/ViewMedia.cfm?uri=josab-41-2-A161)\" by Chen et al.; the associated [photonics-opt-testbed repo](https://github.com/NanoComp/photonics-opt-testbed/tree/main/RGB_metalens) contains several example designs."
   ]
  },
  {
   "cell_type": "markdown",
   "metadata": {},
   "source": [
    "## Simulating an existing design\n",
    "\n",
    "We'll begin by loading, visualizing, and simulating a design from the photonics-opt-testbed repo."
   ]
  },
  {
   "cell_type": "code",
   "execution_count": null,
   "metadata": {},
   "outputs": [],
   "source": [
    "import matplotlib.pyplot as plt\n",
    "import numpy as onp\n",
    "from skimage import measure\n",
    "\n",
    "design = onp.genfromtxt(\n",
    "    \"../../../reference_designs/metalens/Rasmus70nm.csv\",\n",
    "    delimiter=\",\",\n",
    ")\n",
    "\n",
    "plt.figure(figsize=(8, 2))\n",
    "ax = plt.subplot(111)\n",
    "im = ax.imshow(1 - design.T, cmap=\"gray\")\n",
    "im.set_clim([-2, 1])\n",
    "contours = measure.find_contours(design.T)\n",
    "for c in contours:\n",
    "    plt.plot(c[:, 1], c[:, 0], \"k\", lw=1)\n",
    "ax.set_xticks([])\n",
    "ax.set_yticks([])\n",
    "_ = ax.set_xlim(100, 700)"
   ]
  },
  {
   "cell_type": "markdown",
   "metadata": {},
   "source": [
    "As in other examples, we will use the `metalens` challenge to simulate this design. However, we need to configure the challenge so that the design region size and grid spacing precisely match the reference. All of these physical characteristics are stored in a `MetalensSpec` object. Modify the defaults to match our design, pad `design` so that it has the shape required by the challenge, and then create the challenge object."
   ]
  },
  {
   "cell_type": "code",
   "execution_count": null,
   "metadata": {},
   "outputs": [],
   "source": [
    "import dataclasses\n",
    "from invrs_gym import challenges\n",
    "from invrs_gym.challenges.metalens import challenge as metalens_challenge\n",
    "\n",
    "# By default the simulation does not use PML, but we include it here for visuals.\n",
    "grid_spacing = metalens_challenge.METALENS_SPEC.grid_spacing\n",
    "spec = dataclasses.replace(\n",
    "    metalens_challenge.METALENS_SPEC,\n",
    "    width_pml=0.5,\n",
    "    pml_lens_offset=2.5,\n",
    "    pml_source_offset=2.0,\n",
    "    grid_spacing=grid_spacing,\n",
    ")\n",
    "\n",
    "challenge = challenges.metalens(spec=spec)"
   ]
  },
  {
   "cell_type": "markdown",
   "metadata": {},
   "source": [
    "To simulate our metalens design, we need to create a `totypes.types.Density2DArray` object that has this design as its `array` attribute. We obtain dummy parameters and then overwrite them with our design."
   ]
  },
  {
   "cell_type": "code",
   "execution_count": null,
   "metadata": {},
   "outputs": [],
   "source": [
    "import jax\n",
    "\n",
    "dummy_params = challenge.component.init(jax.random.PRNGKey(0))\n",
    "params = dataclasses.replace(\n",
    "    dummy_params, array=design, fixed_solid=None, fixed_void=None\n",
    ")"
   ]
  },
  {
   "cell_type": "markdown",
   "metadata": {},
   "source": [
    "We are now ready to simulate the metalens, using the `component.response` method. By default, this will not compute the fields passing through the metalens (for improved performance), but we will do so here for visualization purposes."
   ]
  },
  {
   "cell_type": "code",
   "execution_count": null,
   "metadata": {},
   "outputs": [],
   "source": [
    "response, aux = challenge.component.response(params, compute_fields=True)"
   ]
  },
  {
   "cell_type": "markdown",
   "metadata": {},
   "source": [
    "The response includes the intensity at the focus for each of the three wavelengths."
   ]
  },
  {
   "cell_type": "code",
   "execution_count": null,
   "metadata": {},
   "outputs": [],
   "source": [
    "for wvl, enhancement in zip(response.wavelength, response.enhancement_ex):\n",
    "    print(f\"Intensity for wavelength={wvl:.3f} is {enhancement:.2f}\")"
   ]
  },
  {
   "cell_type": "markdown",
   "metadata": {},
   "source": [
    "These values are close to those reported in the [photonics-opt-testbed](https://github.com/NanoComp/photonics-opt-testbed/tree/main/RGB_metalens) repo, indicating that our simulation is well-converged. Next, let's visualize the fields. Since we have specified `compute_fields=True`, in the fields are included in the `aux` dictionary."
   ]
  },
  {
   "cell_type": "code",
   "execution_count": null,
   "metadata": {},
   "outputs": [],
   "source": [
    "from skimage import measure\n",
    "\n",
    "ex, ey, ez = aux[\"efield\"]\n",
    "x, _, z = aux[\"field_coordinates\"]\n",
    "xplot, zplot = onp.meshgrid(x[0, :, 0], z, indexing=\"ij\")\n",
    "\n",
    "abs_field = onp.sqrt(onp.abs(ex) ** 2 + onp.abs(ey) ** 2 + onp.abs(ez) ** 2)\n",
    "\n",
    "plt.figure(figsize=(8, 9))\n",
    "for i, color in enumerate([\"b\", \"g\", \"r\"]):\n",
    "    cmap = plt.cm.colors.LinearSegmentedColormap.from_list(\"b\", [\"w\", color], N=256)\n",
    "\n",
    "    ax = plt.subplot(3, 1, i + 1)\n",
    "    im = ax.pcolormesh(xplot, zplot, abs_field[i, :, 0, :, 0], cmap=cmap)\n",
    "    maxval = onp.amax(abs_field[i, :, 0, :])\n",
    "    im.set_clim([0, maxval])\n",
    "    ax.axis(\"equal\")\n",
    "\n",
    "    contours = measure.find_contours(onp.asarray(params.array))\n",
    "    for c in contours:\n",
    "        x = c[:, 0] * spec.grid_spacing\n",
    "        z = c[:, 1] * spec.grid_spacing + spec.focus_offset + spec.thickness_ambient\n",
    "        ax.plot(x, z, \"k\")\n",
    "\n",
    "    ax.set_xlim([onp.amin(xplot), onp.amax(xplot)])\n",
    "    ax.set_ylim([onp.amax(zplot), onp.amin(zplot)])\n",
    "    ax.axis(False)\n",
    "\n",
    "    ax.set_title(\n",
    "        f\"wavelength={response.wavelength[i]:.3f}: intensity={response.enhancement_ex[i]:.2f}\"\n",
    "    )"
   ]
  },
  {
   "cell_type": "markdown",
   "metadata": {},
   "source": [
    "## Performance versus length scale\n",
    "\n",
    "Next, we will compute the performance of the reference devices and measure their length scale using the [imageruler](https://github.com/nanocomp/imageruler) package."
   ]
  },
  {
   "cell_type": "code",
   "execution_count": null,
   "metadata": {},
   "outputs": [],
   "source": [
    "import glob\n",
    "import imageruler\n",
    "\n",
    "results = {\"rasmus\": [], \"mo\": []}\n",
    "challenge = metalens_challenge.metalens()\n",
    "dummy_params = challenge.component.init(jax.random.PRNGKey(0))\n",
    "\n",
    "for fname in glob.glob(\"../../../reference_designs/metalens/*.csv\"):\n",
    "    design = onp.genfromtxt(fname, delimiter=\",\")\n",
    "    params = dataclasses.replace(\n",
    "        dummy_params, array=design, fixed_solid=None, fixed_void=None\n",
    "    )\n",
    "\n",
    "    response, aux = challenge.component.response(params)\n",
    "\n",
    "    # Compute the length scale in nanometers for the binary design.\n",
    "    length_scale = (\n",
    "        onp.amin(imageruler.minimum_length_scale(design > 0.5)) * grid_spacing * 1000\n",
    "    )\n",
    "\n",
    "    if \"Mo\" in fname:\n",
    "        key = \"mo\"\n",
    "    elif \"Rasmus\" in fname:\n",
    "        key = \"rasmus\"\n",
    "\n",
    "    results[key].append(\n",
    "        {\"response\": response, \"length_scale\": length_scale, \"aux\": aux}\n",
    "    )"
   ]
  },
  {
   "cell_type": "markdown",
   "metadata": {},
   "source": [
    "Plotting, we see results very similar to those of figure 3 of \"[Validation and characterization of algorithms and software for photonics inverse design](https://opg.optica.org/josab/abstract.cfm?URI=josab-41-2-A161)\" by Chen et al.\n",
    "\n",
    "Differences are explained by updates to the imageruler algorithm and the fact that we are using a different simulation algorithm to model the metalenses. Also, the Rasmus-generated designs have been resampled to have 20 nm grid spacing (originally 10 nm) as expected by the metalens challenge."
   ]
  },
  {
   "cell_type": "code",
   "execution_count": null,
   "metadata": {},
   "outputs": [],
   "source": [
    "ax = plt.subplot(111)\n",
    "\n",
    "for key, result in results.items():\n",
    "    enhancement = onp.asarray([onp.mean(r[\"response\"].enhancement_ex) for r in result])\n",
    "    length_scale = onp.asarray([onp.amin(r[\"length_scale\"]) for r in result])\n",
    "    order = onp.argsort(length_scale)\n",
    "    ax.plot(length_scale[order], enhancement[order], \"o-\", lw=3, ms=10, label=key)\n",
    "\n",
    "ax.set_xlabel(\"Length scale (nm)\")\n",
    "ax.set_ylabel(\"Wavelength average intensity at focus (a.u.)\")\n",
    "ax.set_ylim((5, 25))\n",
    "_ = plt.legend()"
   ]
  }
 ],
 "metadata": {
  "kernelspec": {
   "display_name": "invrs",
   "language": "python",
   "name": "python3"
  },
  "language_info": {
   "codemirror_mode": {
    "name": "ipython",
    "version": 3
   },
   "file_extension": ".py",
   "mimetype": "text/x-python",
   "name": "python",
   "nbconvert_exporter": "python",
   "pygments_lexer": "ipython3",
   "version": "3.10.12"
  }
 },
 "nbformat": 4,
 "nbformat_minor": 2
}
