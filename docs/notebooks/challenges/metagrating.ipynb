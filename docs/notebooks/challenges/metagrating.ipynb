{
 "cells": [
  {
   "cell_type": "markdown",
   "id": "823a99c7",
   "metadata": {},
   "source": [
    "# Metagrating\n",
    "\n",
    "The metagrating challenge entails designing a beam deflector that couples a normally-incident plane wave into one with a polar angle of 50 degrees. This problem was studied in \"[Validation and characterization of algorithms and software for photonics inverse design](https://opg.optica.org/josab/ViewMedia.cfm?uri=josab-41-2-A161)\" by Chen et al.; the associated [photonics-opt-testbed repo](https://github.com/NanoComp/photonics-opt-testbed) contains several example designs."
   ]
  },
  {
   "cell_type": "markdown",
   "id": "7fe52a19",
   "metadata": {},
   "source": [
    "## Simulating an existing design\n",
    "\n",
    "We'll begin by loading, visualizing, and simulating designs from the photonics-opt-testbed repo."
   ]
  },
  {
   "cell_type": "code",
   "execution_count": null,
   "id": "58100cea",
   "metadata": {},
   "outputs": [],
   "source": [
    "import matplotlib.pyplot as plt\n",
    "import numpy as onp\n",
    "from skimage import measure\n",
    "\n",
    "\n",
    "def load_design(name):\n",
    "    path = f\"../../../reference_designs/metagrating/{name}.csv\"\n",
    "    return onp.genfromtxt(path, delimiter=\",\")\n",
    "\n",
    "\n",
    "names = [\"device1\", \"device2\", \"device3\", \"device4\", \"device5\"]\n",
    "designs = [load_design(name) for name in names]\n",
    "\n",
    "plt.figure(figsize=(7, 4))\n",
    "for i, design in enumerate(designs):\n",
    "    ax = plt.subplot(1, 5, i + 1)\n",
    "    im = ax.imshow(1 - design, cmap=\"gray\")\n",
    "    im.set_clim([-2, 1])\n",
    "    contours = measure.find_contours(design)\n",
    "    for c in contours:\n",
    "        plt.plot(c[:, 1], c[:, 0], \"k\", lw=1)\n",
    "    ax.set_xticks([])\n",
    "    ax.set_yticks([])"
   ]
  },
  {
   "cell_type": "markdown",
   "id": "11568008",
   "metadata": {},
   "source": [
    "Now, we'll create a `metagrating` challenge, which provides everything we need to simulate and optimize the metagrating."
   ]
  },
  {
   "cell_type": "code",
   "execution_count": null,
   "id": "fed8a965",
   "metadata": {},
   "outputs": [],
   "source": [
    "from invrs_gym import challenges\n",
    "\n",
    "challenge = challenges.metagrating()"
   ]
  },
  {
   "cell_type": "markdown",
   "id": "0ba9a3a4",
   "metadata": {},
   "source": [
    "To simulate the metagrating, we need to provide a `totypes.types.Density2DArray` object to the `challenge.component.params` method. Obtain dummy parameters using `component.init`, and then overwrite the `array` attribute with the reference design that we want to simulate."
   ]
  },
  {
   "cell_type": "code",
   "execution_count": null,
   "id": "281c95f7",
   "metadata": {},
   "outputs": [],
   "source": [
    "import dataclasses\n",
    "import jax\n",
    "\n",
    "dummy_params = challenge.component.init(jax.random.PRNGKey(0))\n",
    "params = dataclasses.replace(dummy_params, array=load_design(\"device1\"))\n",
    "\n",
    "# Perform simulation using component response method.\n",
    "response, aux = challenge.component.response(params)"
   ]
  },
  {
   "cell_type": "markdown",
   "id": "e8b6019b",
   "metadata": {},
   "source": [
    "The `response` contains the transmission and reflection efficiency into each diffraction order, and for TE- and TM-polarized cases. However, we only care about TM diffraction into the +1 order. Fortunately, the `challenge` has a `metrics` method that extracts this value."
   ]
  },
  {
   "cell_type": "code",
   "execution_count": null,
   "id": "29b3a077",
   "metadata": {},
   "outputs": [],
   "source": [
    "metrics = challenge.metrics(response, params=params, aux=aux)\n",
    "print(f\"TM transmission into +1 order: {metrics['average_efficiency'] * 100:.1f}%\")"
   ]
  },
  {
   "cell_type": "markdown",
   "id": "7f18842e",
   "metadata": {},
   "source": [
    "Now let's take a look at the remaining designs."
   ]
  },
  {
   "cell_type": "code",
   "execution_count": null,
   "id": "58b02ecc",
   "metadata": {},
   "outputs": [],
   "source": [
    "for name in names:\n",
    "    params = dataclasses.replace(dummy_params, array=load_design(name))\n",
    "    response, aux = challenge.component.response(params)\n",
    "    metrics = challenge.metrics(response, params=params, aux=aux)\n",
    "    print(\n",
    "        f\"{name} TM transmission into +1 order: {metrics['average_efficiency'] * 100:.1f}%\"\n",
    "    )"
   ]
  },
  {
   "cell_type": "markdown",
   "id": "c806574c",
   "metadata": {},
   "source": [
    "These values are all very close to those reported in the [photonics-opt-testbed](https://github.com/NanoComp/photonics-opt-testbed/tree/main/Metagrating3D), indicating that our simulation is converged."
   ]
  }
 ],
 "metadata": {
  "kernelspec": {
   "display_name": "Python 3 (ipykernel)",
   "language": "python",
   "name": "python3"
  },
  "language_info": {
   "codemirror_mode": {
    "name": "ipython",
    "version": 3
   },
   "file_extension": ".py",
   "mimetype": "text/x-python",
   "name": "python",
   "nbconvert_exporter": "python",
   "pygments_lexer": "ipython3",
   "version": "3.10.12"
  }
 },
 "nbformat": 4,
 "nbformat_minor": 5
}
