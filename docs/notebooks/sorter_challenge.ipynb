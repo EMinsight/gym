{
 "cells": [
  {
   "cell_type": "markdown",
   "id": "4b17c71d",
   "metadata": {},
   "source": [
    "# Polarization sorter\n",
    "\n",
    "The polarization sorter challenge is taken from an example in the [fmmax](https://github.com/facebookresearch/fmmax) repo; it entails designing a metasurface located above a group of four pixels in an imaging chip; the metsurface should split light in a polarization-dependent way, so that 0-degree polarization is primarily coupled to the top-left pixel, 45-degree polarization to the top-right pixel, 135-degree polarization to the bottom-left pixel, and 90-degree polarization to the bottom-right pixel. Light is incident normally, and has 550 nm wavelength."
   ]
  },
  {
   "cell_type": "markdown",
   "id": "ad2917a0",
   "metadata": {},
   "source": [
    "## Simulating an existing design\n",
    "\n",
    "In this notebook, we'll simulate an existing polarization sorter design. Begin by loading the saved design and investigating its parameters."
   ]
  },
  {
   "cell_type": "code",
   "execution_count": null,
   "id": "6f6ef4a5",
   "metadata": {},
   "outputs": [],
   "source": [
    "from totypes import json_utils\n",
    "\n",
    "with open(\"../../reference_designs/polarization_sorter/device1.json\", \"r\") as f:\n",
    "    params = json_utils.pytree_from_json(f.read())\n",
    "\n",
    "print(\"Printing optimization variables:\")\n",
    "for key, value in params.items():\n",
    "    print(\n",
    "        f\"  {key} is a {f'length-{len(value)} sequence of {type(value[0])}' if isinstance(value, (list, tuple)) else type(value)}\"\n",
    "    )"
   ]
  },
  {
   "cell_type": "markdown",
   "id": "03861029",
   "metadata": {},
   "source": [
    "As we can see, the polarization sorter includes a `density_metasurface` entry whose value is a length-1 sequence containing a `Density2DArray` object. This density defines the pattern of the metasurface layer; we have a tuple since the `polarization_sorter` challenge can actually be configured to multiple metasurfaces, which could potentially enable higher performance than just a single metasurface. Each metasurface has its own optimizable thickness, and so `thickness_metasurface` value is a tuple of bounded arrays. And, metasurfaces are spaced from each other (and from the substrate) by spacer layers, each of which again has its own optimizable thickness.\n",
    "\n",
    "Next we will plot the metasurface pattern."
   ]
  },
  {
   "cell_type": "code",
   "execution_count": null,
   "id": "9340546b",
   "metadata": {},
   "outputs": [],
   "source": [
    "import matplotlib.pyplot as plt\n",
    "from skimage import measure\n",
    "\n",
    "ax = plt.subplot(111)\n",
    "ax.set_xticks([])\n",
    "ax.set_yticks([])\n",
    "im = ax.imshow(1 - params[\"density_metasurface\"][0].array, cmap=\"gray\")\n",
    "im.set_clim([-2, 1])\n",
    "contours = measure.find_contours(params[\"density_metasurface\"][0].array)\n",
    "for c in contours:\n",
    "    plt.plot(c[:, 1], c[:, 0], \"k\", lw=1)"
   ]
  },
  {
   "cell_type": "markdown",
   "id": "3db8153c",
   "metadata": {},
   "source": [
    "To simulate the metasurface we will use the polarization sorter challenge, and specifically, the `component.response` method:"
   ]
  },
  {
   "cell_type": "code",
   "execution_count": null,
   "id": "e78998c8",
   "metadata": {},
   "outputs": [],
   "source": [
    "from invrs_gym import challenges\n",
    "\n",
    "challenge = challenges.polarization_sorter()\n",
    "\n",
    "response, aux = challenge.component.response(params)"
   ]
  },
  {
   "cell_type": "markdown",
   "id": "0280c07a",
   "metadata": {},
   "source": [
    "The `response` is a dataclass that includes the power transmitted into each of the four pixels; the power is measured in a monitor plane 100 nm into the absorbing silicon material that comprises the pixel. Let's make a visual that shows the transmission for each incident polarization angle."
   ]
  },
  {
   "cell_type": "code",
   "execution_count": null,
   "id": "f672e44b",
   "metadata": {},
   "outputs": [],
   "source": [
    "import itertools\n",
    "\n",
    "plt.figure(figsize=(4, 5))\n",
    "ax = plt.subplot(111)\n",
    "im = ax.imshow(response.transmission, cmap=\"coolwarm\")\n",
    "ax.grid(False)\n",
    "ax.set_xticks([0, 1, 2, 3])\n",
    "ax.set_xticklabels(\n",
    "    [\"top left pixel\", \"top right pixel\", \"bottom left pixel\", \"bottom right pixel\"],\n",
    "    rotation=45,\n",
    "    ha=\"left\",\n",
    ")\n",
    "ax.set_yticks([0, 1, 2, 3])\n",
    "ax.set_yticklabels(\n",
    "    [\n",
    "        \"$0\\degree$ polarization\",\n",
    "        \"$45\\degree$ polarization\",\n",
    "        \"$135\\degree$ polarization\",\n",
    "        \"$90\\degree$ polarization\",\n",
    "    ]\n",
    ")\n",
    "ax.xaxis.tick_top()\n",
    "for i, j in itertools.product(range(4), range(4)):\n",
    "    value = response.transmission[i, j] * 100\n",
    "    ax.text(\n",
    "        i,\n",
    "        j,\n",
    "        f\"{value:.1f}\",\n",
    "        horizontalalignment=\"center\",\n",
    "        verticalalignment=\"center\",\n",
    "        color=\"k\" if (value > 10 and value < 30) else \"w\",\n",
    "    )"
   ]
  },
  {
   "cell_type": "markdown",
   "id": "d6bc665a",
   "metadata": {},
   "source": [
    "We can also compute the challenge metrics, which includes quantities such as the efficiency and polarization ratio."
   ]
  },
  {
   "cell_type": "code",
   "execution_count": null,
   "id": "96136177",
   "metadata": {},
   "outputs": [],
   "source": [
    "metrics = challenge.metrics(response, params=params, aux=aux)\n",
    "\n",
    "print(\"Metrics from evaluation of polarization sorter design:\")\n",
    "for key, value in metrics.items():\n",
    "    print(f\"  {key} = {value}\")"
   ]
  },
  {
   "cell_type": "markdown",
   "id": "91507dbf",
   "metadata": {},
   "source": [
    "Finally, we can also visualize the fields in the monitor plane."
   ]
  },
  {
   "cell_type": "code",
   "execution_count": null,
   "id": "6b016514",
   "metadata": {},
   "outputs": [],
   "source": [
    "import numpy as onp\n",
    "\n",
    "field = onp.sum(onp.abs(aux[\"efield\"]) ** 2, axis=0)\n",
    "polarization_angles = [0, 45, 135, 90]\n",
    "\n",
    "fig, axs = plt.subplots(2, 2, figsize=(5, 6), constrained_layout=False)\n",
    "for i, (ax, angle) in enumerate(zip(axs.flatten(), polarization_angles)):\n",
    "    im = ax.imshow(field[..., i], cmap=\"magma\")\n",
    "    im.set_clim([0, onp.amax(field)])\n",
    "    ax.set_title(f\"Polarization\\nangle = {angle}$\\degree$\")\n",
    "    ax.set_xticks([])\n",
    "    ax.set_yticks([])\n",
    "\n",
    "    d = field.shape[0]\n",
    "    ax.plot([0, d - 1], [d / 2, d / 2], \"w\", lw=1)\n",
    "    ax.plot([d / 2, d / 2], [0, d - 1], \"w\", lw=1)"
   ]
  },
  {
   "cell_type": "markdown",
   "id": "6bfaee9e",
   "metadata": {},
   "source": [
    "## Polarization sorter optimization\n",
    "\n",
    "To optimize a polarization sorter, you may follow the recipe from other challenge notebooks. Note that the polarization sorter challenge is particularly tricky, since it includes many different optimization variables for which scaling may be important. See the `diffractive_splitter` challenge notebook for a brief discussion on scaling."
   ]
  }
 ],
 "metadata": {
  "kernelspec": {
   "display_name": "Python 3 (ipykernel)",
   "language": "python",
   "name": "python3"
  },
  "language_info": {
   "codemirror_mode": {
    "name": "ipython",
    "version": 3
   },
   "file_extension": ".py",
   "mimetype": "text/x-python",
   "name": "python",
   "nbconvert_exporter": "python",
   "pygments_lexer": "ipython3",
   "version": "3.10.12"
  }
 },
 "nbformat": 4,
 "nbformat_minor": 5
}
