{
 "cells": [
  {
   "cell_type": "markdown",
   "id": "823a99c7",
   "metadata": {},
   "source": [
    "# Basic optimization example\n",
    "\n",
    "In this notebook we'll carry out basic unconstrained optimization of the metagrating challenge.\n",
    "\n",
    "Start by creating a `metagrating` challenge, which provides everything we need to simulate and optimize the metagrating."
   ]
  },
  {
   "cell_type": "code",
   "execution_count": null,
   "id": "fed8a965",
   "metadata": {},
   "outputs": [],
   "source": [
    "from invrs_gym import challenges\n",
    "\n",
    "challenge = challenges.metagrating()"
   ]
  },
  {
   "cell_type": "code",
   "execution_count": null,
   "id": "f1a9d668",
   "metadata": {},
   "outputs": [],
   "source": [
    "import jax\n",
    "\n",
    "params = challenge.component.init(jax.random.PRNGKey(0))\n",
    "\n",
    "\n",
    "def loss_fn(params):\n",
    "    response, aux = challenge.component.response(params)\n",
    "    loss = challenge.loss(response)\n",
    "    metrics = challenge.metrics(response, params=params, aux=aux)\n",
    "    efficiency = metrics[\"average_efficiency\"]\n",
    "    return loss, (response, efficiency)"
   ]
  },
  {
   "cell_type": "markdown",
   "id": "1ed89701",
   "metadata": {},
   "source": [
    "To design the metagrating we'll use the `density_lbfgsb` optimizer from the [invrs-opt](https://github.com/invrs-io/opt) package. Initialize the optimizer state, and then define the `step_fn` which is called at each optimization step, and then simply call it repeatedly to obtain an optimized design."
   ]
  },
  {
   "cell_type": "code",
   "execution_count": null,
   "id": "c711308f",
   "metadata": {},
   "outputs": [],
   "source": [
    "import invrs_opt\n",
    "\n",
    "opt = invrs_opt.density_lbfgsb(beta=4)\n",
    "state = opt.init(params)  # Initialize optimizer state using the initial parameters.\n",
    "\n",
    "\n",
    "@jax.jit\n",
    "def step_fn(state):\n",
    "    params = opt.params(state)\n",
    "    (value, (_, efficiency)), grad = jax.value_and_grad(loss_fn, has_aux=True)(params)\n",
    "    state = opt.update(grad=grad, value=value, params=params, state=state)\n",
    "    return state, (params, efficiency)\n",
    "\n",
    "\n",
    "# Call `step_fn` repeatedly to optimize, and store the results of each evaluation.\n",
    "efficiencies = []\n",
    "for _ in range(65):\n",
    "    state, (params, efficiency) = step_fn(state)\n",
    "    efficiencies.append(efficiency)"
   ]
  },
  {
   "cell_type": "markdown",
   "id": "4adc4a5c",
   "metadata": {},
   "source": [
    "Now let's visualize the trajectory of efficiency, and the final design."
   ]
  },
  {
   "cell_type": "code",
   "execution_count": null,
   "id": "18bab5b8",
   "metadata": {},
   "outputs": [],
   "source": [
    "import matplotlib.pyplot as plt\n",
    "import numpy as onp\n",
    "from skimage import measure\n",
    "\n",
    "ax = plt.subplot(121)\n",
    "ax.plot(onp.asarray(efficiencies) * 100)\n",
    "ax.set_xlabel(\"Step\")\n",
    "ax.set_ylabel(\"Diffraction efficiency into +1 order (%)\")\n",
    "\n",
    "ax = plt.subplot(122)\n",
    "im = ax.imshow(1 - params.array, cmap=\"gray\")\n",
    "im.set_clim([-2, 1])\n",
    "\n",
    "contours = measure.find_contours(onp.asarray(params.array))\n",
    "for c in contours:\n",
    "    ax.plot(c[:, 1], c[:, 0], \"k\", lw=1)\n",
    "\n",
    "ax.set_xticks([])\n",
    "ax.set_yticks([])\n",
    "\n",
    "print(f\"Final efficiency: {efficiencies[-1] * 100:.1f}%\")"
   ]
  },
  {
   "cell_type": "markdown",
   "id": "bb44022e",
   "metadata": {},
   "source": [
    "The final efficiency is around 90%, similar to the reference designs. However, note that the design is not binary, which is a limitation of the `density_lbfgsb` optimizer: it generally does not produce binary solutions. A different optimizer would be required to obtain binary designs."
   ]
  }
 ],
 "metadata": {
  "kernelspec": {
   "display_name": "Python 3 (ipykernel)",
   "language": "python",
   "name": "python3"
  },
  "language_info": {
   "codemirror_mode": {
    "name": "ipython",
    "version": 3
   },
   "file_extension": ".py",
   "mimetype": "text/x-python",
   "name": "python",
   "nbconvert_exporter": "python",
   "pygments_lexer": "ipython3",
   "version": "3.10.12"
  }
 },
 "nbformat": 4,
 "nbformat_minor": 5
}
