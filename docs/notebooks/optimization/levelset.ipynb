{
 "cells": [
  {
   "cell_type": "markdown",
   "metadata": {},
   "source": [
    "# Levelset optimization\n",
    "\n",
    "In this notebook we'll carry out optimization of a the ceviche power splitter challenge using a levelset parameterization. With the levelset parameterization, the boundaries of features will be free to move, but the topology should remain unchanged.\n",
    "\n",
    "Begin by creating the `ceviche_power_splitter` challenge and obtaining initial parameters."
   ]
  },
  {
   "cell_type": "code",
   "execution_count": null,
   "metadata": {},
   "outputs": [],
   "source": [
    "from invrs_gym import challenges\n",
    "\n",
    "challenge = challenges.ceviche_power_splitter()"
   ]
  },
  {
   "cell_type": "markdown",
   "metadata": {},
   "source": [
    "The default initial parameters are randomly generated, as is typical in a topology optimization setting. Let's visualize these:"
   ]
  },
  {
   "cell_type": "code",
   "execution_count": null,
   "metadata": {},
   "outputs": [],
   "source": [
    "import jax\n",
    "import matplotlib.pyplot as plt\n",
    "from skimage import measure\n",
    "\n",
    "default_params = challenge.component.init(jax.random.PRNGKey(0))\n",
    "\n",
    "def plot_params(ax, params, contour_levels=(0.5,)):\n",
    "    density = challenge.component.ceviche_model.density(params.array)\n",
    "    im = ax.imshow(1 - density, cmap=\"gray\")\n",
    "    im.set_clim(-2, 1)\n",
    "    for level in contour_levels:\n",
    "        for c in measure.find_contours(density, level=level):\n",
    "            plt.plot(c[:, 1], c[:, 0], 'k')\n",
    "    _ = ax.axis(False)\n",
    "\n",
    "plt.figure(figsize=(6, 4))\n",
    "plot_params(ax=plt.subplot(111), params=default_params, contour_levels=(0.4, 0.6))"
   ]
  },
  {
   "cell_type": "markdown",
   "metadata": {},
   "source": [
    "In this notebook, we'll construct our own initial parameters, which will be more suited to levelset optimization. Define an `auto_route` function for this purpose, and then visualize the generated structure."
   ]
  },
  {
   "cell_type": "code",
   "execution_count": null,
   "metadata": {},
   "outputs": [],
   "source": [
    "import dataclasses\n",
    "import numpy as onp\n",
    "from skimage import morphology\n",
    "from imageruler import imageruler\n",
    "from totypes import types\n",
    "\n",
    "\n",
    "def auto_route(density: types.Density2DArray) -> types.Density2DArray:\n",
    "    \"\"\"Automatically routes waveguides in a design region.\"\"\"\n",
    "    assert density.ndim == 2\n",
    "\n",
    "    array = onp.ones_like(density.array, dtype=bool)\n",
    "    if density.fixed_void is not None:\n",
    "        array[density.fixed_void] = False\n",
    "    d = max(array.shape)\n",
    "    array = onp.pad(array, pad_width=((d, d), (d, d)), mode=\"edge\")\n",
    "    array = morphology.skeletonize(array, method=\"lee\")\n",
    "    array = array.astype(bool)\n",
    "\n",
    "    length_scale = border_structure_length_scale(density)\n",
    "    kernel = imageruler.kernel_for_length_scale(length_scale)\n",
    "\n",
    "    array = morphology.binary_dilation(array[:, ::-1], kernel)[:, ::-1]\n",
    "    array = morphology.binary_closing(array[:, ::-1], kernel)[:, ::-1]\n",
    "    array = morphology.binary_opening(array[:, ::-1], kernel)[:, ::-1]\n",
    "    array = array[d:-d, d:-d]\n",
    "\n",
    "    if density.fixed_solid is not None:\n",
    "        array[density.fixed_solid] = True\n",
    "    if density.fixed_void is not None:\n",
    "        array[density.fixed_void] = False\n",
    "\n",
    "    array = onp.where(array == 0, density.lower_bound, density.upper_bound)\n",
    "    density = dataclasses.replace(density, array=array)\n",
    "    return types.symmetrize_density(density)\n",
    "\n",
    "\n",
    "def border_structure_length_scale(density: types.Density2DArray) -> int:\n",
    "    \"\"\"Finds the length scale of structures at the border of a density array.\"\"\"\n",
    "    array = onp.array(density.array)\n",
    "    if density.fixed_solid is not None:\n",
    "        array[density.fixed_solid] = density.upper_bound\n",
    "    if density.fixed_void is not None:\n",
    "        array[density.fixed_void] = density.lower_bound\n",
    "    array = array > (density.lower_bound + density.upper_bound) / 2\n",
    "\n",
    "    borders = (array[:, 0], array[:, -1], array[0, :], array[-1, :])\n",
    "    segment_length_scales = [\n",
    "        min(imageruler.minimum_length_scale_1d(border_segment, periodic=False))\n",
    "        for border_segment in borders\n",
    "    ]\n",
    "    return min(segment_length_scales)\n",
    "\n",
    "\n",
    "params = auto_route(default_params)\n",
    "\n",
    "plt.figure(figsize=(8, 4))\n",
    "plot_params(ax=plt.subplot(121), params=default_params, contour_levels=(0.4, 0.6))\n",
    "plot_params(ax=plt.subplot(122), params=params)"
   ]
  },
  {
   "cell_type": "markdown",
   "metadata": {},
   "source": [
    "To carry out levelset optimization, we can use the `levelset_wrapped_optax` optimizer from the invrs-opt library. This optimizer uses a user-specified optax optimizer to minimize an objective, where the optimization variables include density arrays parameterized via a levelset function."
   ]
  },
  {
   "cell_type": "code",
   "execution_count": null,
   "metadata": {},
   "outputs": [],
   "source": [
    "import invrs_opt\n",
    "import optax\n",
    "\n",
    "opt = invrs_opt.levelset_wrapped_optax(optax.adam(0.1), penalty=1.0)\n",
    "state = opt.init(params)\n",
    "\n",
    "@jax.jit\n",
    "def step_fn(state):\n",
    "    def loss_fn(params):\n",
    "        response, aux = challenge.component.response(params)\n",
    "        eval_metric = challenge.eval_metric(response)\n",
    "        return challenge.loss(response), (response, aux, eval_metric)\n",
    "    \n",
    "    params = opt.params(state)\n",
    "    (loss, (response, aux, eval_metric)), grad = jax.value_and_grad(loss_fn, has_aux=True)(params)\n",
    "    state = opt.update(grad=grad, value=loss, params=params, state=state)\n",
    "    return state, (params, response, loss, aux, eval_metric)\n",
    "\n",
    "for i in range(50):\n",
    "    state, (params, response, loss, aux, eval_metric) = step_fn(state)"
   ]
  },
  {
   "cell_type": "markdown",
   "metadata": {},
   "source": [
    "After running the optimization, we can now visualize the final structure and its performance."
   ]
  },
  {
   "cell_type": "code",
   "execution_count": null,
   "metadata": {},
   "outputs": [],
   "source": [
    "def plot_ceviche_component(component, params, response, aux):\n",
    "    plt.figure(figsize=(11, 4))\n",
    "    ax = plt.subplot(131)\n",
    "    for i in range(response.s_parameters.shape[-1]):\n",
    "        ax.semilogy(\n",
    "            response.wavelengths_nm,\n",
    "            onp.abs(response.s_parameters[:, 0, i]) ** 2,\n",
    "            \"o-\",\n",
    "            label=\"$|S_{\" + f\"{i + 1}1\" + \"}|^2$\",\n",
    "        )\n",
    "    ax.legend()\n",
    "\n",
    "    # Get the full structure, including waveguides extending away from the deisgn.\n",
    "    density = component.ceviche_model.density(params.array)\n",
    "    contours = measure.find_contours(density)\n",
    "\n",
    "    ax = plt.subplot(132)\n",
    "    im = ax.imshow(1 - density, cmap=\"gray\")\n",
    "    im.set_clim([-2, 1])\n",
    "    for c in contours:\n",
    "        plt.plot(c[:, 1], c[:, 0], \"k\", lw=1)\n",
    "    ax.set_xticks([])\n",
    "    ax.set_yticks([])\n",
    "\n",
    "    ax = plt.subplot(133)\n",
    "    fields = onp.real(aux[\"fields\"][2, 0, :, :])\n",
    "    im = ax.imshow(fields, cmap=\"bwr\")\n",
    "    im.set_clim([-onp.amax(onp.abs(fields)), onp.amax(onp.abs(fields))])\n",
    "    for c in contours:\n",
    "        plt.plot(c[:, 1], c[:, 0], \"k\", lw=1)\n",
    "    ax.set_xticks([])\n",
    "    ax.set_yticks([])\n",
    "\n",
    "plot_ceviche_component(challenge.component, params, response, aux)"
   ]
  }
 ],
 "metadata": {
  "kernelspec": {
   "display_name": "invrs-cpu",
   "language": "python",
   "name": "python3"
  },
  "language_info": {
   "codemirror_mode": {
    "name": "ipython",
    "version": 3
   },
   "file_extension": ".py",
   "mimetype": "text/x-python",
   "name": "python",
   "nbconvert_exporter": "python",
   "pygments_lexer": "ipython3",
   "version": "3.10.12"
  }
 },
 "nbformat": 4,
 "nbformat_minor": 2
}
