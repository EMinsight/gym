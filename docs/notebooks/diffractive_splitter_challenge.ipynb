{
 "cells": [
  {
   "cell_type": "markdown",
   "id": "b8fe57bf",
   "metadata": {},
   "source": [
    "# Diffractive splitter"
   ]
  },
  {
   "cell_type": "markdown",
   "id": "776ccdc8",
   "metadata": {},
   "source": [
    "The diffractive splitter challenge entails designing a metasurface that evenly splits a normally-incident plane wave into a 7x7 array of beams. Light is incident from the ambient, with the substrate and the metasurface pattern being silicon oxide. The operating wavelength is 732.8 nm, and the unit cell pitch is 7.2 microns, corresponding to diffraction angles of ±15 degrees. The challenge is based on \"[Design and rigorous analysis of a non-paraxial diffractive beamsplitter](https://www.lighttrans.com/fileadmin/shared/UseCases/Application_UC_Rigorous%20Analysis%20of%20Non-paraxial%20Diffractive%20Beam%20Splitter.pdf)\" slide deck retrieved from the LightTrans web site.\n",
    "    "
   ]
  },
  {
   "cell_type": "markdown",
   "id": "c6334d83",
   "metadata": {},
   "source": [
    "## Simulating an existing design\n",
    "\n",
    "We'll begin by loading, visualizing, and simulating existing designs extracted from LightTrans material (slide 12)."
   ]
  },
  {
   "cell_type": "code",
   "execution_count": null,
   "id": "052ec0cc",
   "metadata": {},
   "outputs": [],
   "source": [
    "import matplotlib.pyplot as plt\n",
    "import numpy as onp\n",
    "\n",
    "\n",
    "def load_design(name):\n",
    "    path = f\"../../reference_designs/diffractive_splitter/{name}.csv\"\n",
    "    coarse_array = onp.genfromtxt(path, delimiter=\",\")\n",
    "    return onp.kron(coarse_array, onp.ones((10, 10)))\n",
    "\n",
    "\n",
    "names = [\"device1\", \"device2\", \"device3\"]\n",
    "designs = [load_design(name) for name in names]\n",
    "\n",
    "plt.figure(figsize=(8, 3))\n",
    "for i, design in enumerate(designs):\n",
    "    ax = plt.subplot(1, 4, i + 1)\n",
    "    ax.imshow(design, cmap=\"gray\")\n",
    "    ax.set_xticks([])\n",
    "    ax.set_yticks([])"
   ]
  },
  {
   "cell_type": "code",
   "execution_count": null,
   "id": "3364e065",
   "metadata": {},
   "outputs": [],
   "source": [
    "from invrs_gym.challenges.diffract import splitter_challenge\n",
    "\n",
    "challenge = splitter_challenge.diffractive_splitter()"
   ]
  },
  {
   "cell_type": "markdown",
   "id": "39095991",
   "metadata": {},
   "source": [
    "While several challenges involve only the design of two-dimensional patterns (with a `Density2DArray` being the optimization variable), the diffractive splitter degrees of freedom include both the metasurface pattern and several film thicknesses, in the form of a `BoundedArray`."
   ]
  },
  {
   "cell_type": "code",
   "execution_count": null,
   "id": "31f77e59",
   "metadata": {},
   "outputs": [],
   "source": [
    "import jax\n",
    "\n",
    "params = challenge.component.init(jax.random.PRNGKey(0))\n",
    "for key, value in params.items():\n",
    "    print(f\"Variable {key}: {type(value)}\")"
   ]
  },
  {
   "cell_type": "markdown",
   "id": "be7c270b",
   "metadata": {},
   "source": [
    "We'll simulate a reference design by overwriting the `density` entry in the `params` dict, leaving thicknesses unchanged. The default values match those from the LightTrans example. Then simulate using the `component.response` method."
   ]
  },
  {
   "cell_type": "code",
   "execution_count": null,
   "id": "4dc3a73f",
   "metadata": {},
   "outputs": [],
   "source": [
    "import dataclasses\n",
    "\n",
    "params[\"density\"] = dataclasses.replace(params[\"density\"], array=load_design(\"device1\"))\n",
    "response, aux = challenge.component.response(params)"
   ]
  },
  {
   "cell_type": "markdown",
   "id": "bde04575",
   "metadata": {},
   "source": [
    "Now let's plot the diffraction efficiency for each order. We use the `extract_orders_for_splitting` function, and get the efficiency for a 9x9 array of beams (even though this design is for a 7x7 splitter). This will let us see how the diffraction efficiency drops off for orders beyond those targeted by the design."
   ]
  },
  {
   "cell_type": "code",
   "execution_count": null,
   "id": "2f883b0f",
   "metadata": {},
   "outputs": [],
   "source": [
    "plt.figure(figsize=(4, 3))\n",
    "\n",
    "splitting = splitter_challenge.extract_orders_for_splitting(\n",
    "    response.transmission_efficiency,\n",
    "    response.expansion,\n",
    "    splitting=(9, 9),\n",
    "    polarization=\"TM\",\n",
    ")\n",
    "\n",
    "ax = plt.subplot(111)\n",
    "im = plt.imshow(splitting * 100, cmap=\"coolwarm\")\n",
    "ax.set_xticks(onp.arange(9))\n",
    "ax.set_yticks(onp.arange(9))\n",
    "ax.set_xticklabels(range(-4, 5))\n",
    "ax.set_yticklabels(range(-4, 5))\n",
    "plt.colorbar(im)\n",
    "im.set_clim([0, onp.amax(splitting * 100)])\n",
    "ax.set_title(\"device1\\nDiffraction efficiency (%)\")\n",
    "_ = ax.set_ylim(ax.get_ylim()[::-1])"
   ]
  },
  {
   "cell_type": "markdown",
   "id": "07acc598",
   "metadata": {},
   "source": [
    "This device is not a particularly good one, as most of the power ends up in the zeroth order. This is reported also in the LightTrans material, and seen in the metrics we can compute using the challenge `metrics` method."
   ]
  },
  {
   "cell_type": "code",
   "execution_count": null,
   "id": "e1a776f1",
   "metadata": {},
   "outputs": [],
   "source": [
    "print(\"Challenge metrics:\")\n",
    "for key, value in challenge.metrics(response, params=params, aux=aux).items():\n",
    "    print(f\"    {key} = {value:.4f}\")"
   ]
  },
  {
   "cell_type": "markdown",
   "id": "fc84a85e",
   "metadata": {},
   "source": [
    "Let's take a look at the remaining devices, which have higher reported performance."
   ]
  },
  {
   "cell_type": "code",
   "execution_count": null,
   "id": "c517bf4b",
   "metadata": {},
   "outputs": [],
   "source": [
    "plt.figure(figsize=(8, 3))\n",
    "for i, name in enumerate([\"device2\", \"device3\"]):\n",
    "    params[\"density\"] = dataclasses.replace(params[\"density\"], array=load_design(name))\n",
    "    response, aux = challenge.component.response(params)\n",
    "\n",
    "    splitting = splitter_challenge.extract_orders_for_splitting(\n",
    "        response.transmission_efficiency,\n",
    "        response.expansion,\n",
    "        splitting=(9, 9),\n",
    "        polarization=\"TM\",\n",
    "    )\n",
    "\n",
    "    ax = plt.subplot(1, 2, i + 1)\n",
    "    im = plt.imshow(splitting * 100, cmap=\"coolwarm\")\n",
    "    ax.set_xticks(onp.arange(9))\n",
    "    ax.set_yticks(onp.arange(9))\n",
    "    ax.set_xticklabels(range(-4, 5))\n",
    "    ax.set_yticklabels(range(-4, 5))\n",
    "    plt.colorbar(im)\n",
    "    im.set_clim([0, onp.amax(splitting * 100)])\n",
    "    ax.set_title(f\"{name}\\nDiffraction efficiency (%)\")\n",
    "    ax.set_ylim(ax.get_ylim()[::-1])"
   ]
  },
  {
   "cell_type": "markdown",
   "id": "682cb26c",
   "metadata": {},
   "source": [
    "## Diffractive splitter optimization\n",
    "\n",
    "Now let's optimize a diffractive splitter. Again we obtain initial random parameters and define the loss function. The loss function will also return the response and the metrics, which will let us see how performance improves as we optimize."
   ]
  },
  {
   "cell_type": "code",
   "execution_count": null,
   "id": "59348151-9e8f-4b1b-bc1e-9c5398b63f15",
   "metadata": {},
   "outputs": [],
   "source": [
    "params = challenge.component.init(jax.random.PRNGKey(0))\n",
    "\n",
    "\n",
    "def loss_fn(params):\n",
    "    response, aux = challenge.component.response(params)\n",
    "    loss = challenge.loss(response)\n",
    "    metrics = challenge.metrics(response, params=params, aux=aux)\n",
    "    return loss, (response, metrics)"
   ]
  },
  {
   "cell_type": "markdown",
   "id": "d6b65557",
   "metadata": {},
   "source": [
    "Before optimizing, let's investigate the gradient of the loss with respect to the optimizable parameters. For many optimization methods, these must be comparable in magnitude if the optimization is to be successful. In particular, this is true for the L-BFGS-B scheme used in other challenges."
   ]
  },
  {
   "cell_type": "code",
   "execution_count": null,
   "id": "b03e1b82",
   "metadata": {},
   "outputs": [],
   "source": [
    "grad, _ = jax.grad(loss_fn, has_aux=True)(params)\n",
    "\n",
    "plt.figure(figsize=(4, 3))\n",
    "ax = plt.subplot(111)\n",
    "im = ax.imshow(grad[\"density\"].array)\n",
    "plt.colorbar(im)\n",
    "ax.set_title(\"Gradient wrt density\")\n",
    "\n",
    "print(f\"Gradient wrt grating thickness: {grad['thickness_grating'].array}\")"
   ]
  },
  {
   "cell_type": "markdown",
   "id": "f955e661",
   "metadata": {},
   "source": [
    "The gradient with respect to density and the grating thickness differ by roughly a factor of 1e4. To bring them to the same scale, we can change the scale of the `density`. By default, a value of `0` corresponds to the absence of material, and `1` corresponds to the presence of material, as stored in the bounds attributes of the `Density2DArray`."
   ]
  },
  {
   "cell_type": "code",
   "execution_count": null,
   "id": "71f0b4a1",
   "metadata": {},
   "outputs": [],
   "source": [
    "print(\n",
    "    f\"Original density: \"\n",
    "    f\"lower bound (void) = {params['density'].lower_bound:.4f}, \"\n",
    "    f\"upper bound (solid) = {params['density'].upper_bound:.4f}, \"\n",
    "    f\"mean value = {onp.mean(params['density'].array):.4f}\"\n",
    ")"
   ]
  },
  {
   "cell_type": "markdown",
   "id": "39679f77",
   "metadata": {},
   "source": [
    "To change the density scale, we'll simply modify its upper and lower bounds, and also rescale the `array` attribute accordingly. Note that regardless of the scale we choose, the simulation will map the upper bound value to material presence, and the lower bound value to material absence."
   ]
  },
  {
   "cell_type": "code",
   "execution_count": null,
   "id": "efdace51",
   "metadata": {},
   "outputs": [],
   "source": [
    "def rescale_density(density, scale):\n",
    "    rescaled_array = density.array - density.lower_bound\n",
    "    rescaled_array /= (density.upper_bound - density.lower_bound) / scale\n",
    "    return dataclasses.replace(\n",
    "        density,\n",
    "        array=rescaled_array,\n",
    "        lower_bound=0,\n",
    "        upper_bound=(density.upper_bound - density.lower_bound) * scale,\n",
    "    )\n",
    "\n",
    "\n",
    "params[\"density\"] = rescale_density(params[\"density\"], scale=1e-2)\n",
    "print(\n",
    "    f\"Rescaled density: \"\n",
    "    f\"lower bound (void) = {params['density'].lower_bound:.4e}, \"\n",
    "    f\"upper bound (solid) = {params['density'].upper_bound:.4e}, \"\n",
    "    f\"mean value = {onp.mean(params['density'].array):.4e}\"\n",
    ")"
   ]
  },
  {
   "cell_type": "markdown",
   "id": "bc43b497",
   "metadata": {},
   "source": [
    "Then, we can take another look at the gradients."
   ]
  },
  {
   "cell_type": "code",
   "execution_count": null,
   "id": "f25e3d06",
   "metadata": {},
   "outputs": [],
   "source": [
    "grad, _ = jax.grad(loss_fn, has_aux=True)(params)\n",
    "\n",
    "plt.figure(figsize=(4, 3))\n",
    "ax = plt.subplot(111)\n",
    "im = ax.imshow(grad[\"density\"].array)\n",
    "plt.colorbar(im)\n",
    "ax.set_title(\"Gradient wrt density\")\n",
    "\n",
    "print(f\"Gradient wrt grating thickness: {grad['thickness_grating'].array}\")"
   ]
  },
  {
   "cell_type": "markdown",
   "id": "5c46aeca",
   "metadata": {},
   "source": [
    "The values are now a bit more comparable. Note that a the choice of scale can dramatically impact the optimization result, and it may be worthwhile to experiment with several values to find one that works well.\n",
    "\n",
    "To design the diffractive splitter we'll use the `density_lbfgsb` optimizer from the [invrs-opt](https://github.com/invrs-io/opt) package. Initialize the optimizer state, and then define the `step_fn` which is called at each optimization step, and then simply call it repeatedly to obtain an optimized design."
   ]
  },
  {
   "cell_type": "code",
   "execution_count": null,
   "id": "10bd0c12",
   "metadata": {},
   "outputs": [],
   "source": [
    "import invrs_opt\n",
    "\n",
    "opt = invrs_opt.density_lbfgsb(beta=4)\n",
    "state = opt.init(params)  # Initialize optimizer state using the initial parameters.\n",
    "\n",
    "\n",
    "@jax.jit\n",
    "def step_fn(state):\n",
    "    params = opt.params(state)\n",
    "    (value, (response, metrics)), grad = jax.value_and_grad(loss_fn, has_aux=True)(\n",
    "        params\n",
    "    )\n",
    "    state = opt.update(grad=grad, value=value, params=params, state=state)\n",
    "    return state, (params, value, response, metrics)\n",
    "\n",
    "\n",
    "# Call `step_fn` repeatedly to optimize, and store the results of each evaluation.\n",
    "metrics_values = []\n",
    "for _ in range(60):\n",
    "    state, (params, value, response, metrics) = step_fn(state)\n",
    "    metrics_values.append(metrics)"
   ]
  },
  {
   "cell_type": "markdown",
   "id": "ece71623",
   "metadata": {},
   "source": [
    "Now let's visualize the optimization trajectory, the final design, and its performance."
   ]
  },
  {
   "cell_type": "code",
   "execution_count": null,
   "id": "50a05c03",
   "metadata": {},
   "outputs": [],
   "source": [
    "from skimage import measure\n",
    "\n",
    "plt.figure(figsize=(12, 3))\n",
    "\n",
    "ax = plt.subplot(131)\n",
    "ax.plot(\n",
    "    [m[\"total_efficiency\"] * 100 for m in metrics_values], label=\"Total efficiency (%)\"\n",
    ")\n",
    "ax.plot(\n",
    "    [m[\"uniformity_error\"] * 100 for m in metrics_values], label=\"Uniformity error (%)\"\n",
    ")\n",
    "ax.set_xlabel(\"Optimization step\")\n",
    "ax.legend()\n",
    "\n",
    "ax = plt.subplot(132)\n",
    "im = plt.imshow(params[\"density\"].array, cmap=\"gray\")\n",
    "im.set_clim([params[\"density\"].lower_bound, params[\"density\"].upper_bound])\n",
    "\n",
    "contours = measure.find_contours(onp.asarray(params[\"density\"].array))\n",
    "for c in contours:\n",
    "    ax.plot(c[:, 1], c[:, 0], \"r\")\n",
    "ax.set_xticks([])\n",
    "ax.set_yticks([])\n",
    "ax.set_title(\"Optimized design\")\n",
    "\n",
    "splitting = splitter_challenge.extract_orders_for_splitting(\n",
    "    response.transmission_efficiency,\n",
    "    response.expansion,\n",
    "    splitting=(9, 9),\n",
    "    polarization=\"TM\",\n",
    ")\n",
    "\n",
    "ax = plt.subplot(133)\n",
    "im = plt.imshow(splitting * 100, cmap=\"coolwarm\")\n",
    "ax.set_xticks(onp.arange(9))\n",
    "ax.set_yticks(onp.arange(9))\n",
    "ax.set_xticklabels(range(-4, 5))\n",
    "ax.set_yticklabels(range(-4, 5))\n",
    "plt.colorbar(im)\n",
    "im.set_clim([0, onp.amax(splitting * 100)])\n",
    "ax.set_title(\"Diffraction efficiency (%)\")\n",
    "_ = ax.set_ylim(ax.get_ylim()[::-1])"
   ]
  }
 ],
 "metadata": {
  "kernelspec": {
   "display_name": "Python 3 (ipykernel)",
   "language": "python",
   "name": "python3"
  },
  "language_info": {
   "codemirror_mode": {
    "name": "ipython",
    "version": 3
   },
   "file_extension": ".py",
   "mimetype": "text/x-python",
   "name": "python",
   "nbconvert_exporter": "python",
   "pygments_lexer": "ipython3",
   "version": "3.10.12"
  }
 },
 "nbformat": 4,
 "nbformat_minor": 5
}
