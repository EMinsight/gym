{
 "cells": [
  {
   "cell_type": "markdown",
   "id": "823a99c7",
   "metadata": {},
   "source": [
    "# Metagrating\n",
    "\n",
    "The metagrating challenge entails designing a beam deflector that couples a normally-incident plane wave into one with a polar angle of 50 degrees. This problem was studied in \"[Validation and characterization of algorithms and software for photonics inverse design](https://opg.optica.org/josab/ViewMedia.cfm?uri=josab-41-2-A161)\" by Chen et al.; the associated [photonics-opt-testbed repo](https://github.com/NanoComp/photonics-opt-testbed) contains several example designs."
   ]
  },
  {
   "cell_type": "markdown",
   "id": "7fe52a19",
   "metadata": {},
   "source": [
    "## Simulating an existing design\n",
    "\n",
    "We'll begin by loading, visualizing, and simulating designs from the photonics-opt-testbed repo."
   ]
  },
  {
   "cell_type": "code",
   "execution_count": null,
   "id": "58100cea",
   "metadata": {},
   "outputs": [],
   "source": [
    "import matplotlib.pyplot as plt\n",
    "import numpy as onp\n",
    "from skimage import measure\n",
    "\n",
    "\n",
    "def load_design(name):\n",
    "    path = f\"../../reference_designs/metagrating/{name}.csv\"\n",
    "    return onp.genfromtxt(path, delimiter=\",\")\n",
    "\n",
    "\n",
    "names = [\"device1\", \"device2\", \"device3\", \"device4\"]\n",
    "designs = [load_design(name) for name in names]\n",
    "\n",
    "plt.figure(figsize=(7, 4))\n",
    "for i, design in enumerate(designs):\n",
    "    ax = plt.subplot(1, 4, i + 1)\n",
    "    im = ax.imshow(1 - design, cmap=\"gray\")\n",
    "    im.set_clim([-2, 1])\n",
    "    contours = measure.find_contours(design)\n",
    "    for c in contours:\n",
    "        plt.plot(c[:, 1], c[:, 0], \"k\", lw=1)\n",
    "    ax.set_xticks([])\n",
    "    ax.set_yticks([])"
   ]
  },
  {
   "cell_type": "markdown",
   "id": "11568008",
   "metadata": {},
   "source": [
    "Now, we'll create a `metagrating` challenge, which provides everything we need to simulate and optimize the metagrating."
   ]
  },
  {
   "cell_type": "code",
   "execution_count": null,
   "id": "fed8a965",
   "metadata": {},
   "outputs": [],
   "source": [
    "from invrs_gym import challenges\n",
    "\n",
    "challenge = challenges.metagrating()"
   ]
  },
  {
   "cell_type": "markdown",
   "id": "0ba9a3a4",
   "metadata": {},
   "source": [
    "To simulate the metagrating, we need to provide a `totypes.types.Density2DArray` object to the `challenge.component.params` method. Obtain dummy parameters using `component.init`, and then overwrite the `array` attribute with the reference design that we want to simulate."
   ]
  },
  {
   "cell_type": "code",
   "execution_count": null,
   "id": "281c95f7",
   "metadata": {},
   "outputs": [],
   "source": [
    "import dataclasses\n",
    "import jax\n",
    "\n",
    "dummy_params = challenge.component.init(jax.random.PRNGKey(0))\n",
    "params = dataclasses.replace(dummy_params, array=load_design(\"device1\"))\n",
    "\n",
    "# Perform simulation using component response method.\n",
    "response, aux = challenge.component.response(params)"
   ]
  },
  {
   "cell_type": "markdown",
   "id": "e8b6019b",
   "metadata": {},
   "source": [
    "The `response` contains the transmission and reflection efficiency into each diffraction order, and for TE- and TM-polarized cases. However, we only care about TM diffraction into the +1 order. Fortunately, the `challenge` has a `metrics` method that extracts this value."
   ]
  },
  {
   "cell_type": "code",
   "execution_count": null,
   "id": "29b3a077",
   "metadata": {},
   "outputs": [],
   "source": [
    "metrics = challenge.metrics(response, params=params, aux=aux)\n",
    "print(f\"TM transmission into +1 order: {metrics['average_efficiency'] * 100:.1f}%\")"
   ]
  },
  {
   "cell_type": "markdown",
   "id": "7f18842e",
   "metadata": {},
   "source": [
    "Now let's take a look at the remaining designs."
   ]
  },
  {
   "cell_type": "code",
   "execution_count": null,
   "id": "58b02ecc",
   "metadata": {},
   "outputs": [],
   "source": [
    "for name in names:\n",
    "    params = dataclasses.replace(dummy_params, array=load_design(name))\n",
    "    response, aux = challenge.component.response(params)\n",
    "    metrics = challenge.metrics(response, params=params, aux=aux)\n",
    "    print(\n",
    "        f\"{name} TM transmission into +1 order: {metrics['average_efficiency'] * 100:.1f}%\"\n",
    "    )"
   ]
  },
  {
   "cell_type": "markdown",
   "id": "c806574c",
   "metadata": {},
   "source": [
    "These values are all very close to those reported in the [photonics-opt-testbed](https://github.com/NanoComp/photonics-opt-testbed/tree/main/Metagrating3D), indicating that our simulation is converged."
   ]
  },
  {
   "cell_type": "markdown",
   "id": "14a8182d",
   "metadata": {},
   "source": [
    "## Metagrating optimization\n",
    "\n",
    "Now let's optimize a metagrating. Again we obtain initial random parameters and define the loss function. The loss function will also return the response and the efficiency value, which will let us see how efficiency improves as we optimize."
   ]
  },
  {
   "cell_type": "code",
   "execution_count": null,
   "id": "f1a9d668",
   "metadata": {},
   "outputs": [],
   "source": [
    "params = challenge.component.init(jax.random.PRNGKey(0))\n",
    "\n",
    "\n",
    "def loss_fn(params):\n",
    "    response, aux = challenge.component.response(params)\n",
    "    loss = challenge.loss(response)\n",
    "    metrics = challenge.metrics(response, params=params, aux=aux)\n",
    "    efficiency = metrics[\"average_efficiency\"]\n",
    "    return loss, (response, efficiency)"
   ]
  },
  {
   "cell_type": "markdown",
   "id": "1ed89701",
   "metadata": {},
   "source": [
    "To design the metagrating we'll use the `density_lbfgsb` optimizer from the [invrs-opt](https://github.com/invrs-io/opt) package. Initialize the optimizer state, and then define the `step_fn` which is called at each optimization step, and then simply call it repeatedly to obtain an optimized design."
   ]
  },
  {
   "cell_type": "code",
   "execution_count": null,
   "id": "c711308f",
   "metadata": {},
   "outputs": [],
   "source": [
    "import invrs_opt\n",
    "\n",
    "opt = invrs_opt.density_lbfgsb(beta=4)\n",
    "state = opt.init(params)  # Initialize optimizer state using the initial parameters.\n",
    "\n",
    "\n",
    "@jax.jit\n",
    "def step_fn(state):\n",
    "    params = opt.params(state)\n",
    "    (value, (_, efficiency)), grad = jax.value_and_grad(loss_fn, has_aux=True)(params)\n",
    "    state = opt.update(grad=grad, value=value, params=params, state=state)\n",
    "    return state, (params, efficiency)\n",
    "\n",
    "\n",
    "# Call `step_fn` repeatedly to optimize, and store the results of each evaluation.\n",
    "efficiencies = []\n",
    "for _ in range(65):\n",
    "    state, (params, efficiency) = step_fn(state)\n",
    "    efficiencies.append(efficiency)"
   ]
  },
  {
   "cell_type": "markdown",
   "id": "4adc4a5c",
   "metadata": {},
   "source": [
    "Now let's visualize the trajectory of efficiency, and the final design."
   ]
  },
  {
   "cell_type": "code",
   "execution_count": null,
   "id": "18bab5b8",
   "metadata": {},
   "outputs": [],
   "source": [
    "from skimage import measure\n",
    "\n",
    "ax = plt.subplot(121)\n",
    "ax.plot(onp.asarray(efficiencies) * 100)\n",
    "ax.set_xlabel(\"Step\")\n",
    "ax.set_ylabel(\"Diffraction efficiency into +1 order (%)\")\n",
    "\n",
    "ax = plt.subplot(122)\n",
    "im = ax.imshow(1 - params.array, cmap=\"gray\")\n",
    "im.set_clim([-2, 1])\n",
    "\n",
    "contours = measure.find_contours(onp.asarray(params.array))\n",
    "for c in contours:\n",
    "    ax.plot(c[:, 1], c[:, 0], \"k\", lw=1)\n",
    "\n",
    "ax.set_xticks([])\n",
    "ax.set_yticks([])\n",
    "\n",
    "print(f\"Final efficiency: {efficiencies[-1] * 100:.1f}%\")"
   ]
  },
  {
   "cell_type": "markdown",
   "id": "bb44022e",
   "metadata": {},
   "source": [
    "The final efficiency is around 90%, similar to the reference designs. However, note that the design is not binary, which is a limitation of the `density_lbfgsb` optimizer: it generally does not produce binary solutions. A different optimizer would be required to obtain binary designs."
   ]
  }
 ],
 "metadata": {
  "kernelspec": {
   "display_name": "Python 3 (ipykernel)",
   "language": "python",
   "name": "python3"
  },
  "language_info": {
   "codemirror_mode": {
    "name": "ipython",
    "version": 3
   },
   "file_extension": ".py",
   "mimetype": "text/x-python",
   "name": "python",
   "nbconvert_exporter": "python",
   "pygments_lexer": "ipython3",
   "version": "3.10.12"
  }
 },
 "nbformat": 4,
 "nbformat_minor": 5
}
